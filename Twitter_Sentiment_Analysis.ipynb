{
  "nbformat": 4,
  "nbformat_minor": 0,
  "metadata": {
    "colab": {
      "name": "Twitter_Sentiment_Analysis.ipynb",
      "provenance": [],
      "collapsed_sections": [],
      "include_colab_link": true
    },
    "kernelspec": {
      "name": "python3",
      "display_name": "Python 3"
    }
  },
  "cells": [
    {
      "cell_type": "markdown",
      "metadata": {
        "id": "view-in-github",
        "colab_type": "text"
      },
      "source": [
        "<a href=\"https://colab.research.google.com/github/manojgupta3051994/Data-Science-Hackathon-And-Competition/blob/master/Twitter_Sentiment_Analysis.ipynb\" target=\"_parent\"><img src=\"https://colab.research.google.com/assets/colab-badge.svg\" alt=\"Open In Colab\"/></a>"
      ]
    },
    {
      "cell_type": "code",
      "metadata": {
        "colab": {
          "base_uri": "https://localhost:8080/"
        },
        "id": "zNUg-9vTMprG",
        "outputId": "9db443a1-8497-4c92-8fe6-70d9fa91a4bd"
      },
      "source": [
        "import pandas as pd\r\n",
        "import matplotlib.pyplot as plt\r\n",
        "from bs4 import BeautifulSoup\r\n",
        "import re\r\n",
        "import nltk\r\n",
        "from nltk.corpus import stopwords\r\n",
        "from string import punctuation\r\n",
        "from nltk.stem import WordNetLemmatizer\r\n",
        "from nltk.stem.porter import *\r\n",
        "nltk.download('stopwords')\r\n",
        "nltk.download('punkt')\r\n",
        "nltk.download('wordnet')"
      ],
      "execution_count": 1,
      "outputs": [
        {
          "output_type": "stream",
          "text": [
            "[nltk_data] Downloading package stopwords to /root/nltk_data...\n",
            "[nltk_data]   Unzipping corpora/stopwords.zip.\n",
            "[nltk_data] Downloading package punkt to /root/nltk_data...\n",
            "[nltk_data]   Unzipping tokenizers/punkt.zip.\n",
            "[nltk_data] Downloading package wordnet to /root/nltk_data...\n",
            "[nltk_data]   Unzipping corpora/wordnet.zip.\n"
          ],
          "name": "stdout"
        },
        {
          "output_type": "execute_result",
          "data": {
            "text/plain": [
              "True"
            ]
          },
          "metadata": {
            "tags": []
          },
          "execution_count": 1
        }
      ]
    },
    {
      "cell_type": "code",
      "metadata": {
        "colab": {
          "base_uri": "https://localhost:8080/",
          "height": 197
        },
        "id": "EHK7dygEbD0O",
        "outputId": "09fbd6ab-4091-4260-8b0a-6d20cc449ef8"
      },
      "source": [
        "data = pd.read_csv('train.csv')\r\n",
        "data.head()"
      ],
      "execution_count": 5,
      "outputs": [
        {
          "output_type": "execute_result",
          "data": {
            "text/html": [
              "<div>\n",
              "<style scoped>\n",
              "    .dataframe tbody tr th:only-of-type {\n",
              "        vertical-align: middle;\n",
              "    }\n",
              "\n",
              "    .dataframe tbody tr th {\n",
              "        vertical-align: top;\n",
              "    }\n",
              "\n",
              "    .dataframe thead th {\n",
              "        text-align: right;\n",
              "    }\n",
              "</style>\n",
              "<table border=\"1\" class=\"dataframe\">\n",
              "  <thead>\n",
              "    <tr style=\"text-align: right;\">\n",
              "      <th></th>\n",
              "      <th>tweet_id</th>\n",
              "      <th>tweet</th>\n",
              "      <th>sentiment</th>\n",
              "    </tr>\n",
              "  </thead>\n",
              "  <tbody>\n",
              "    <tr>\n",
              "      <th>0</th>\n",
              "      <td>1701</td>\n",
              "      <td>#sxswnui #sxsw #apple defining language of tou...</td>\n",
              "      <td>1</td>\n",
              "    </tr>\n",
              "    <tr>\n",
              "      <th>1</th>\n",
              "      <td>1851</td>\n",
              "      <td>Learning ab Google doodles! All doodles should...</td>\n",
              "      <td>1</td>\n",
              "    </tr>\n",
              "    <tr>\n",
              "      <th>2</th>\n",
              "      <td>2689</td>\n",
              "      <td>one of the most in-your-face ex. of stealing t...</td>\n",
              "      <td>2</td>\n",
              "    </tr>\n",
              "    <tr>\n",
              "      <th>3</th>\n",
              "      <td>4525</td>\n",
              "      <td>This iPhone #SXSW app would b pretty awesome i...</td>\n",
              "      <td>0</td>\n",
              "    </tr>\n",
              "    <tr>\n",
              "      <th>4</th>\n",
              "      <td>3604</td>\n",
              "      <td>Line outside the Apple store in Austin waiting...</td>\n",
              "      <td>1</td>\n",
              "    </tr>\n",
              "  </tbody>\n",
              "</table>\n",
              "</div>"
            ],
            "text/plain": [
              "   tweet_id                                              tweet  sentiment\n",
              "0      1701  #sxswnui #sxsw #apple defining language of tou...          1\n",
              "1      1851  Learning ab Google doodles! All doodles should...          1\n",
              "2      2689  one of the most in-your-face ex. of stealing t...          2\n",
              "3      4525  This iPhone #SXSW app would b pretty awesome i...          0\n",
              "4      3604  Line outside the Apple store in Austin waiting...          1"
            ]
          },
          "metadata": {
            "tags": []
          },
          "execution_count": 5
        }
      ]
    },
    {
      "cell_type": "code",
      "metadata": {
        "colab": {
          "base_uri": "https://localhost:8080/"
        },
        "id": "z3K4MoGPcWfC",
        "outputId": "bbde5a93-1c5b-4cff-bdec-f7f1d0a77198"
      },
      "source": [
        "data.shape"
      ],
      "execution_count": 6,
      "outputs": [
        {
          "output_type": "execute_result",
          "data": {
            "text/plain": [
              "(7274, 3)"
            ]
          },
          "metadata": {
            "tags": []
          },
          "execution_count": 6
        }
      ]
    },
    {
      "cell_type": "code",
      "metadata": {
        "colab": {
          "base_uri": "https://localhost:8080/"
        },
        "id": "E228CwJibdVO",
        "outputId": "506f6e5f-73e7-40fb-eb72-2828774ec8c4"
      },
      "source": [
        "data['sentiment'].value_counts()"
      ],
      "execution_count": 8,
      "outputs": [
        {
          "output_type": "execute_result",
          "data": {
            "text/plain": [
              "1    4311\n",
              "2    2382\n",
              "0     456\n",
              "3     125\n",
              "Name: sentiment, dtype: int64"
            ]
          },
          "metadata": {
            "tags": []
          },
          "execution_count": 8
        }
      ]
    },
    {
      "cell_type": "code",
      "metadata": {
        "colab": {
          "base_uri": "https://localhost:8080/"
        },
        "id": "j4WKNZq3cXy4",
        "outputId": "15f7ae4c-beae-49b8-cbee-276f6b3e12f4"
      },
      "source": [
        "data.isnull().sum()"
      ],
      "execution_count": 49,
      "outputs": [
        {
          "output_type": "execute_result",
          "data": {
            "text/plain": [
              "tweet_id     0\n",
              "tweet        1\n",
              "sentiment    0\n",
              "dtype: int64"
            ]
          },
          "metadata": {
            "tags": []
          },
          "execution_count": 49
        }
      ]
    },
    {
      "cell_type": "code",
      "metadata": {
        "id": "Jw-OzKvlcZeS"
      },
      "source": [
        "data.dropna(inplace=True)"
      ],
      "execution_count": 50,
      "outputs": []
    },
    {
      "cell_type": "code",
      "metadata": {
        "id": "300JC1N9ccHu"
      },
      "source": [
        "# function to remove user handles\r\n",
        "def remove_pattern(input_txt, pattern):\r\n",
        "    r = re.findall(pattern, input_txt)\r\n",
        "    for i in r:\r\n",
        "        input_txt = re.sub(i, '', input_txt)\r\n",
        "\r\n",
        "    return input_txt"
      ],
      "execution_count": 51,
      "outputs": []
    },
    {
      "cell_type": "code",
      "metadata": {
        "id": "8tXwiTYhce6t"
      },
      "source": [
        "data['length_of_tweets'] = [len(t) for t in data.tweet]"
      ],
      "execution_count": 52,
      "outputs": []
    },
    {
      "cell_type": "code",
      "metadata": {
        "colab": {
          "base_uri": "https://localhost:8080/",
          "height": 197
        },
        "id": "6Hbp8cDccksM",
        "outputId": "b686f221-b385-4105-b8cc-b2980bbabdd3"
      },
      "source": [
        "data.head()"
      ],
      "execution_count": 53,
      "outputs": [
        {
          "output_type": "execute_result",
          "data": {
            "text/html": [
              "<div>\n",
              "<style scoped>\n",
              "    .dataframe tbody tr th:only-of-type {\n",
              "        vertical-align: middle;\n",
              "    }\n",
              "\n",
              "    .dataframe tbody tr th {\n",
              "        vertical-align: top;\n",
              "    }\n",
              "\n",
              "    .dataframe thead th {\n",
              "        text-align: right;\n",
              "    }\n",
              "</style>\n",
              "<table border=\"1\" class=\"dataframe\">\n",
              "  <thead>\n",
              "    <tr style=\"text-align: right;\">\n",
              "      <th></th>\n",
              "      <th>tweet_id</th>\n",
              "      <th>tweet</th>\n",
              "      <th>sentiment</th>\n",
              "      <th>length_of_tweets</th>\n",
              "    </tr>\n",
              "  </thead>\n",
              "  <tbody>\n",
              "    <tr>\n",
              "      <th>0</th>\n",
              "      <td>1701</td>\n",
              "      <td>#sxswnui #sxsw #apple defining language of tou...</td>\n",
              "      <td>1</td>\n",
              "      <td>89</td>\n",
              "    </tr>\n",
              "    <tr>\n",
              "      <th>1</th>\n",
              "      <td>1851</td>\n",
              "      <td>Learning ab Google doodles! All doodles should...</td>\n",
              "      <td>1</td>\n",
              "      <td>143</td>\n",
              "    </tr>\n",
              "    <tr>\n",
              "      <th>2</th>\n",
              "      <td>2689</td>\n",
              "      <td>one of the most in-your-face ex. of stealing t...</td>\n",
              "      <td>2</td>\n",
              "      <td>132</td>\n",
              "    </tr>\n",
              "    <tr>\n",
              "      <th>3</th>\n",
              "      <td>4525</td>\n",
              "      <td>This iPhone #SXSW app would b pretty awesome i...</td>\n",
              "      <td>0</td>\n",
              "      <td>125</td>\n",
              "    </tr>\n",
              "    <tr>\n",
              "      <th>4</th>\n",
              "      <td>3604</td>\n",
              "      <td>Line outside the Apple store in Austin waiting...</td>\n",
              "      <td>1</td>\n",
              "      <td>77</td>\n",
              "    </tr>\n",
              "  </tbody>\n",
              "</table>\n",
              "</div>"
            ],
            "text/plain": [
              "   tweet_id  ... length_of_tweets\n",
              "0      1701  ...               89\n",
              "1      1851  ...              143\n",
              "2      2689  ...              132\n",
              "3      4525  ...              125\n",
              "4      3604  ...               77\n",
              "\n",
              "[5 rows x 4 columns]"
            ]
          },
          "metadata": {
            "tags": []
          },
          "execution_count": 53
        }
      ]
    },
    {
      "cell_type": "code",
      "metadata": {
        "id": "-ShpHwpgcmEC"
      },
      "source": [
        "data['tweet'] = data['tweet'].str.lower()"
      ],
      "execution_count": 54,
      "outputs": []
    },
    {
      "cell_type": "code",
      "metadata": {
        "colab": {
          "base_uri": "https://localhost:8080/",
          "height": 197
        },
        "id": "Z7U6q0cGcntc",
        "outputId": "547492f5-96a6-40de-9a22-11a544d34a64"
      },
      "source": [
        "data.head()"
      ],
      "execution_count": 55,
      "outputs": [
        {
          "output_type": "execute_result",
          "data": {
            "text/html": [
              "<div>\n",
              "<style scoped>\n",
              "    .dataframe tbody tr th:only-of-type {\n",
              "        vertical-align: middle;\n",
              "    }\n",
              "\n",
              "    .dataframe tbody tr th {\n",
              "        vertical-align: top;\n",
              "    }\n",
              "\n",
              "    .dataframe thead th {\n",
              "        text-align: right;\n",
              "    }\n",
              "</style>\n",
              "<table border=\"1\" class=\"dataframe\">\n",
              "  <thead>\n",
              "    <tr style=\"text-align: right;\">\n",
              "      <th></th>\n",
              "      <th>tweet_id</th>\n",
              "      <th>tweet</th>\n",
              "      <th>sentiment</th>\n",
              "      <th>length_of_tweets</th>\n",
              "    </tr>\n",
              "  </thead>\n",
              "  <tbody>\n",
              "    <tr>\n",
              "      <th>0</th>\n",
              "      <td>1701</td>\n",
              "      <td>#sxswnui #sxsw #apple defining language of tou...</td>\n",
              "      <td>1</td>\n",
              "      <td>89</td>\n",
              "    </tr>\n",
              "    <tr>\n",
              "      <th>1</th>\n",
              "      <td>1851</td>\n",
              "      <td>learning ab google doodles! all doodles should...</td>\n",
              "      <td>1</td>\n",
              "      <td>143</td>\n",
              "    </tr>\n",
              "    <tr>\n",
              "      <th>2</th>\n",
              "      <td>2689</td>\n",
              "      <td>one of the most in-your-face ex. of stealing t...</td>\n",
              "      <td>2</td>\n",
              "      <td>132</td>\n",
              "    </tr>\n",
              "    <tr>\n",
              "      <th>3</th>\n",
              "      <td>4525</td>\n",
              "      <td>this iphone #sxsw app would b pretty awesome i...</td>\n",
              "      <td>0</td>\n",
              "      <td>125</td>\n",
              "    </tr>\n",
              "    <tr>\n",
              "      <th>4</th>\n",
              "      <td>3604</td>\n",
              "      <td>line outside the apple store in austin waiting...</td>\n",
              "      <td>1</td>\n",
              "      <td>77</td>\n",
              "    </tr>\n",
              "  </tbody>\n",
              "</table>\n",
              "</div>"
            ],
            "text/plain": [
              "   tweet_id  ... length_of_tweets\n",
              "0      1701  ...               89\n",
              "1      1851  ...              143\n",
              "2      2689  ...              132\n",
              "3      4525  ...              125\n",
              "4      3604  ...               77\n",
              "\n",
              "[5 rows x 4 columns]"
            ]
          },
          "metadata": {
            "tags": []
          },
          "execution_count": 55
        }
      ]
    },
    {
      "cell_type": "code",
      "metadata": {
        "colab": {
          "base_uri": "https://localhost:8080/",
          "height": 483
        },
        "id": "-T-exqXCco60",
        "outputId": "41d9fcd3-7844-495f-ff13-3fd5855847f5"
      },
      "source": [
        "fig, ax = plt.subplots(figsize=(15, 8))\r\n",
        "plt.boxplot(data.length_of_tweets)\r\n",
        "plt.show()"
      ],
      "execution_count": 56,
      "outputs": [
        {
          "output_type": "display_data",
          "data": {
            "image/png": "[encoded data removed]",
            "text/plain": [
              "<Figure size 1080x576 with 1 Axes>"
            ]
          },
          "metadata": {
            "tags": [],
            "needs_background": "light"
          }
        }
      ]
    },
    {
      "cell_type": "code",
      "metadata": {
        "colab": {
          "base_uri": "https://localhost:8080/",
          "height": 35
        },
        "id": "9jLYmXZncry7",
        "outputId": "f1e8cb2e-5050-43f5-bdd1-9c0485412fb0"
      },
      "source": [
        "data['tweet'][54]"
      ],
      "execution_count": 57,
      "outputs": [
        {
          "output_type": "execute_result",
          "data": {
            "application/vnd.google.colaboratory.intrinsic+json": {
              "type": "string"
            },
            "text/plain": [
              "'&lt;just a rumor...&gt; rt @mention google to launch major new social network called circles, possibly today {link} #sxsw'"
            ]
          },
          "metadata": {
            "tags": []
          },
          "execution_count": 57
        }
      ]
    },
    {
      "cell_type": "code",
      "metadata": {
        "colab": {
          "base_uri": "https://localhost:8080/"
        },
        "id": "u6K5uFjtc2gz",
        "outputId": "82b916e4-66d3-4eb7-cf7f-e8f35772a3ad"
      },
      "source": [
        "#trying out the library\r\n",
        "example1 = BeautifulSoup(data['tweet'][54], 'lxml').get_text()\r\n",
        "print(example1)"
      ],
      "execution_count": 58,
      "outputs": [
        {
          "output_type": "stream",
          "text": [
            "<just a rumor...> rt @mention google to launch major new social network called circles, possibly today {link} #sxsw\n"
          ],
          "name": "stdout"
        }
      ]
    },
    {
      "cell_type": "code",
      "metadata": {
        "id": "HMBHc5Rhc9PL"
      },
      "source": [
        "#using the library on the dataframe\r\n",
        "data['tweet'] = data['tweet'].apply(lambda x: BeautifulSoup(x, 'lxml').get_text())"
      ],
      "execution_count": 59,
      "outputs": []
    },
    {
      "cell_type": "code",
      "metadata": {
        "colab": {
          "base_uri": "https://localhost:8080/",
          "height": 35
        },
        "id": "WErqTEA-c_QL",
        "outputId": "136ad86b-916f-4fff-94f2-9a9a4b163732"
      },
      "source": [
        "data['tweet'][54]"
      ],
      "execution_count": 60,
      "outputs": [
        {
          "output_type": "execute_result",
          "data": {
            "application/vnd.google.colaboratory.intrinsic+json": {
              "type": "string"
            },
            "text/plain": [
              "'<just a rumor...> rt @mention google to launch major new social network called circles, possibly today {link} #sxsw'"
            ]
          },
          "metadata": {
            "tags": []
          },
          "execution_count": 60
        }
      ]
    },
    {
      "cell_type": "code",
      "metadata": {
        "colab": {
          "base_uri": "https://localhost:8080/",
          "height": 35
        },
        "id": "40C07TCOdBvV",
        "outputId": "0d692e73-e31e-4ad4-c054-c2b311d1e870"
      },
      "source": [
        "data['tweet'][10]"
      ],
      "execution_count": 61,
      "outputs": [
        {
          "output_type": "execute_result",
          "data": {
            "application/vnd.google.colaboratory.intrinsic+json": {
              "type": "string"
            },
            "text/plain": [
              "'rt @mention official #sxsw app \\x89û÷sxsw go\\x89ûª bit.ly/hmiiga #android #iphone #ipad'"
            ]
          },
          "metadata": {
            "tags": []
          },
          "execution_count": 61
        }
      ]
    },
    {
      "cell_type": "code",
      "metadata": {
        "id": "dm3CQ_yNdELe"
      },
      "source": [
        "#removing user handles\r\n",
        "data['tweet'] = data['tweet'].apply(lambda row:remove_pattern(row, \"@[\\w]*\"))"
      ],
      "execution_count": 62,
      "outputs": []
    },
    {
      "cell_type": "code",
      "metadata": {
        "colab": {
          "base_uri": "https://localhost:8080/",
          "height": 35
        },
        "id": "q5D2juvLdGqQ",
        "outputId": "ce1e1c5a-c075-4681-e87a-3c5109783f11"
      },
      "source": [
        "data['tweet'][10]"
      ],
      "execution_count": 63,
      "outputs": [
        {
          "output_type": "execute_result",
          "data": {
            "application/vnd.google.colaboratory.intrinsic+json": {
              "type": "string"
            },
            "text/plain": [
              "'rt  official #sxsw app \\x89û÷sxsw go\\x89ûª bit.ly/hmiiga #android #iphone #ipad'"
            ]
          },
          "metadata": {
            "tags": []
          },
          "execution_count": 63
        }
      ]
    },
    {
      "cell_type": "code",
      "metadata": {
        "colab": {
          "base_uri": "https://localhost:8080/",
          "height": 35
        },
        "id": "yKVbDzSldOrM",
        "outputId": "be50fedc-a4a6-4a35-f111-188aac4aaed8"
      },
      "source": [
        "data['tweet'][2967]"
      ],
      "execution_count": 64,
      "outputs": [
        {
          "output_type": "execute_result",
          "data": {
            "application/vnd.google.colaboratory.intrinsic+json": {
              "type": "string"
            },
            "text/plain": [
              "'retrollect is now also in android market! #sxsw https://market.android.com/details?id=com.borderstylo.retrollect'"
            ]
          },
          "metadata": {
            "tags": []
          },
          "execution_count": 64
        }
      ]
    },
    {
      "cell_type": "code",
      "metadata": {
        "id": "Prp1S1sgdSBq"
      },
      "source": [
        "data.to_csv('new_train.csv', index=False)"
      ],
      "execution_count": 65,
      "outputs": []
    },
    {
      "cell_type": "code",
      "metadata": {
        "id": "X472wEqfdTrZ"
      },
      "source": [
        "def identify_urls(tweet):\r\n",
        "    \"\"\"\r\n",
        "    This is a function that will search for URLs withing a string. It returns the URL part if there is any or it will\r\n",
        "    return 'No URL'\r\n",
        "    \"\"\"\r\n",
        "    \r\n",
        "    regex = r'('\r\n",
        "\r\n",
        "    # Scheme (HTTP, HTTPS, FTP and SFTP):\r\n",
        "    regex += r'(?:(https?|s?ftp):\\/\\/)?'\r\n",
        "\r\n",
        "    # www:\r\n",
        "    regex += r'(?:www\\.)?'\r\n",
        "\r\n",
        "    regex += r'('\r\n",
        "\r\n",
        "    # Host and domain (including ccSLD):\r\n",
        "    regex += r'(?:(?:[A-Z0-9][A-Z0-9-]{0,61}[A-Z0-9]\\.)+)'\r\n",
        "\r\n",
        "    # TLD:\r\n",
        "    regex += r'([A-Z]{2,6})'\r\n",
        "\r\n",
        "    # IP Address:\r\n",
        "    regex += r'|(?:\\d{1,3}\\.\\d{1,3}\\.\\d{1,3}\\.\\d{1,3})'\r\n",
        "\r\n",
        "    regex += r')'\r\n",
        "\r\n",
        "    # Port:\r\n",
        "    regex += r'(?::(\\d{1,5}))?'\r\n",
        "\r\n",
        "    # Query path:\r\n",
        "    regex += r'(?:(\\/\\S+)*)'\r\n",
        "\r\n",
        "    regex += r')'\r\n",
        "    \r\n",
        "    #searching for URLs in the tweet\r\n",
        "    find_urls_in_string = re.compile(regex, re.IGNORECASE)\r\n",
        "    url = find_urls_in_string.search(tweet)\r\n",
        "    \r\n",
        "    if url is not None and url.group(0) is not None:\r\n",
        "        return url.group(0).strip()\r\n",
        "    else:\r\n",
        "        return \"No URL\""
      ],
      "execution_count": 66,
      "outputs": []
    },
    {
      "cell_type": "code",
      "metadata": {
        "id": "SqdGpvYpdwnv"
      },
      "source": [
        "data['URL'] = data['tweet'].apply(lambda x: identify_urls(x))"
      ],
      "execution_count": 67,
      "outputs": []
    },
    {
      "cell_type": "code",
      "metadata": {
        "colab": {
          "base_uri": "https://localhost:8080/"
        },
        "id": "ILFgTGyidynN",
        "outputId": "026a5dff-f61e-46f1-bea6-1e249e74dd3f"
      },
      "source": [
        "data['URL'].value_counts()"
      ],
      "execution_count": 68,
      "outputs": [
        {
          "output_type": "execute_result",
          "data": {
            "text/plain": [
              "No URL                                                         7142\n",
              "webdoc.com                                                        8\n",
              "bit.ly/g03mzb                                                     8\n",
              "rww.to/f6bcet                                                     5\n",
              "actsofsharing.com                                                 5\n",
              "                                                               ... \n",
              "bit.ly/androidhig                                                 1\n",
              "spin.com                                                          1\n",
              "vid.camera                                                        1\n",
              "bit.ly/ajs2011                                                    1\n",
              "http://itunes.apple.com/us/app/holler-gram/id420666439?mt=8       1\n",
              "Name: URL, Length: 92, dtype: int64"
            ]
          },
          "metadata": {
            "tags": []
          },
          "execution_count": 68
        }
      ]
    },
    {
      "cell_type": "code",
      "metadata": {
        "id": "KFANhjR5d0h9"
      },
      "source": [
        "data['tweet']  = data['tweet'].replace(r'http\\S+', '', regex=True).replace(r'https\\S+', '', regex=True).replace(r'www\\S+', '', regex=True)"
      ],
      "execution_count": 69,
      "outputs": []
    },
    {
      "cell_type": "code",
      "metadata": {
        "colab": {
          "base_uri": "https://localhost:8080/",
          "height": 35
        },
        "id": "qFQSkn2ld3lr",
        "outputId": "37bac498-3ce2-4a23-bf19-291dcceb4270"
      },
      "source": [
        "data['tweet'][2967]"
      ],
      "execution_count": 70,
      "outputs": [
        {
          "output_type": "execute_result",
          "data": {
            "application/vnd.google.colaboratory.intrinsic+json": {
              "type": "string"
            },
            "text/plain": [
              "'retrollect is now also in android market! #sxsw '"
            ]
          },
          "metadata": {
            "tags": []
          },
          "execution_count": 70
        }
      ]
    },
    {
      "cell_type": "code",
      "metadata": {
        "id": "VbISiKwSd45A"
      },
      "source": [
        "data['tweet']  = data['tweet'].apply(lambda x: re.sub(r'((www\\.[\\S]+)|(https?://[\\S]+))', ' URL ', x))"
      ],
      "execution_count": 71,
      "outputs": []
    },
    {
      "cell_type": "code",
      "metadata": {
        "colab": {
          "base_uri": "https://localhost:8080/",
          "height": 35
        },
        "id": "9Ye53s-Yd7vn",
        "outputId": "fba0dd85-3ab7-4089-cf06-00a6c012f827"
      },
      "source": [
        "data['tweet'][2967]\r\n"
      ],
      "execution_count": 72,
      "outputs": [
        {
          "output_type": "execute_result",
          "data": {
            "application/vnd.google.colaboratory.intrinsic+json": {
              "type": "string"
            },
            "text/plain": [
              "'retrollect is now also in android market! #sxsw '"
            ]
          },
          "metadata": {
            "tags": []
          },
          "execution_count": 72
        }
      ]
    },
    {
      "cell_type": "code",
      "metadata": {
        "id": "YwSNfNLdd9np"
      },
      "source": [
        "stop_words = list(set(stopwords.words('english')))+list(punctuation)+['``', \"'s\", \"...\", \"n't\"]"
      ],
      "execution_count": 73,
      "outputs": []
    },
    {
      "cell_type": "code",
      "metadata": {
        "colab": {
          "base_uri": "https://localhost:8080/",
          "height": 35
        },
        "id": "Q_NF4cVeeBdw",
        "outputId": "7f46261b-da2a-4139-861e-fe3c631a4652"
      },
      "source": [
        "data['tweet'][87]"
      ],
      "execution_count": 74,
      "outputs": [
        {
          "output_type": "execute_result",
          "data": {
            "application/vnd.google.colaboratory.intrinsic+json": {
              "type": "string"
            },
            "text/plain": [
              "\"rt  any ipad2's left at the apple store at #sxsw? anyone know? :)\""
            ]
          },
          "metadata": {
            "tags": []
          },
          "execution_count": 74
        }
      ]
    },
    {
      "cell_type": "code",
      "metadata": {
        "id": "KctUM39peDms"
      },
      "source": [
        "def handle_emojis(tweet):\r\n",
        "    \"\"\"\r\n",
        "    In this method we are converting the emojis with the text they represent. \r\n",
        "    Happy emojis are converted to EMO_POS and negative to EMO_NEG.\r\n",
        "    \"\"\"\r\n",
        "    # Smile -- :), : ), :-), (:, ( :, (-:, :')\r\n",
        "    tweet = re.sub(r'(:\\s?\\)|:-\\)|\\(\\s?:|\\(-:|:\\'\\))', ' smiling ', tweet)\r\n",
        "    # Laugh -- :D, : D, :-D, xD, x-D, XD, X-D\r\n",
        "    tweet = re.sub(r'(:\\s?D|:-D|x-?D|X-?D)', ' laughing ', tweet)\r\n",
        "    # Love -- <3, :*\r\n",
        "    tweet = re.sub(r'(<3|:\\*)', ' love ', tweet)\r\n",
        "    # Wink -- ;-), ;), ;-D, ;D, (;,  (-;\r\n",
        "    tweet = re.sub(r'(;-?\\)|;-?D|\\(-?;)', ' wink ', tweet)\r\n",
        "    # Sad -- :-(, : (, :(, ):, )-:\r\n",
        "    tweet = re.sub(r'(:\\s?\\(|:-\\(|\\)\\s?:|\\)-:)', ' sad ', tweet)\r\n",
        "    # Cry -- :,(, :'(, :\"(\r\n",
        "    tweet = re.sub(r'(:,\\(|:\\'\\(|:\"\\()', ' cry ', tweet)\r\n",
        "    \r\n",
        "    return tweet"
      ],
      "execution_count": 75,
      "outputs": []
    },
    {
      "cell_type": "code",
      "metadata": {
        "id": "rE0ceEFcediL"
      },
      "source": [
        "data['tweet'] = data['tweet'].apply(lambda x: handle_emojis(x))"
      ],
      "execution_count": 76,
      "outputs": []
    },
    {
      "cell_type": "code",
      "metadata": {
        "colab": {
          "base_uri": "https://localhost:8080/",
          "height": 35
        },
        "id": "U3Tl0qMvehfS",
        "outputId": "d71a64c3-d95c-4ba1-f4b8-58e59651de2b"
      },
      "source": [
        "data['tweet'][87]"
      ],
      "execution_count": 77,
      "outputs": [
        {
          "output_type": "execute_result",
          "data": {
            "application/vnd.google.colaboratory.intrinsic+json": {
              "type": "string"
            },
            "text/plain": [
              "\"rt  any ipad2's left at the apple store at #sxsw? anyone know?  smiling \""
            ]
          },
          "metadata": {
            "tags": []
          },
          "execution_count": 77
        }
      ]
    },
    {
      "cell_type": "code",
      "metadata": {
        "colab": {
          "base_uri": "https://localhost:8080/",
          "height": 35
        },
        "id": "leaJTKeYejHY",
        "outputId": "dffb7e7f-980f-43d3-b3fb-9f4c7001f800"
      },
      "source": [
        "data['tweet'][1251]"
      ],
      "execution_count": 78,
      "outputs": [
        {
          "output_type": "execute_result",
          "data": {
            "application/vnd.google.colaboratory.intrinsic+json": {
              "type": "string"
            },
            "text/plain": [
              "' gr8 meeting u irl after the book signing today! really enjoyed your ipad prez & mahalo for the autograph! #sxsw #hisxsw'"
            ]
          },
          "metadata": {
            "tags": []
          },
          "execution_count": 78
        }
      ]
    },
    {
      "cell_type": "code",
      "metadata": {
        "id": "58PfpMfAekvW"
      },
      "source": [
        "#converting to full meaningful words\r\n",
        "short_word_dict = {\r\n",
        "\"121\": \"one to one\",\r\n",
        "\"a/s/l\": \"age, sex, location\",\r\n",
        "\"ab\": \"about\",\r\n",
        "\"adn\": \"any day now\",\r\n",
        "\"afaik\": \"as far as I know\",\r\n",
        "\"afk\": \"away from keyboard\",\r\n",
        "\"aight\": \"alright\",\r\n",
        "\"alol\": \"actually laughing out loud\",\r\n",
        "\"b4\": \"before\",\r\n",
        "\"b4n\": \"bye for now\",\r\n",
        "\"bak\": \"back at the keyboard\",\r\n",
        "\"bf\": \"boyfriend\",\r\n",
        "\"bff\": \"best friends forever\",\r\n",
        "\"bfn\": \"bye for now\",\r\n",
        "\"bg\": \"big grin\",\r\n",
        "\"bta\": \"but then again\",\r\n",
        "\"btw\": \"by the way\",\r\n",
        "\"cid\": \"crying in disgrace\",\r\n",
        "\"cnp\": \"continued in my next post\",\r\n",
        "\"cp\": \"chat post\",\r\n",
        "\"cu\": \"see you\",\r\n",
        "\"cul\": \"see you later\",\r\n",
        "\"cul8r\": \"see you later\",\r\n",
        "\"cya\": \"bye\",\r\n",
        "\"cyo\": \"see you online\",\r\n",
        "\"dbau\": \"doing business as usual\",\r\n",
        "\"fud\": \"fear, uncertainty, and doubt\",\r\n",
        "\"fwiw\": \"for what it's worth\",\r\n",
        "\"fyi\": \"for your information\",\r\n",
        "\"g\": \"grin\",\r\n",
        "\"g2g\": \"got to go\",\r\n",
        "\"ga\": \"go ahead\",\r\n",
        "\"gal\": \"get a life\",\r\n",
        "\"gf\": \"girlfriend\",\r\n",
        "\"gfn\": \"gone for now\",\r\n",
        "\"gmbo\": \"giggling my butt off\",\r\n",
        "\"gmta\": \"great minds think alike\",\r\n",
        "\"h8\": \"hate\",\r\n",
        "\"hagn\": \"have a good night\",\r\n",
        "\"hdop\": \"help delete online predators\",\r\n",
        "\"hhis\": \"hanging head in shame\",\r\n",
        "\"iac\": \"in any case\",\r\n",
        "\"ianal\": \"I am not a lawyer\",\r\n",
        "\"ic\": \"I see\",\r\n",
        "\"idk\": \"I don't know\",\r\n",
        "\"imao\": \"in my arrogant opinion\",\r\n",
        "\"imnsho\": \"in my not so humble opinion\",\r\n",
        "\"imo\": \"in my opinion\",\r\n",
        "\"iow\": \"in other words\",\r\n",
        "\"ipn\": \"I’m posting naked\",\r\n",
        "\"irl\": \"in real life\",\r\n",
        "\"jk\": \"just kidding\",\r\n",
        "\"l8r\": \"later\",\r\n",
        "\"ld\": \"later, dude\",\r\n",
        "\"ldr\": \"long distance relationship\",\r\n",
        "\"llta\": \"lots and lots of thunderous applause\",\r\n",
        "\"lmao\": \"laugh my ass off\",\r\n",
        "\"lmirl\": \"let's meet in real life\",\r\n",
        "\"lol\": \"laugh out loud\",\r\n",
        "\"ltr\": \"longterm relationship\",\r\n",
        "\"lulab\": \"love you like a brother\",\r\n",
        "\"lulas\": \"love you like a sister\",\r\n",
        "\"luv\": \"love\",\r\n",
        "\"m/f\": \"male or female\",\r\n",
        "\"m8\": \"mate\",\r\n",
        "\"milf\": \"mother I would like to fuck\",\r\n",
        "\"mkt\": \"market\",\r\n",
        "\"oll\": \"online love\",\r\n",
        "\"omg\": \"oh my god\",\r\n",
        "\"otoh\": \"on the other hand\",\r\n",
        "\"pir\": \"parent in room\",\r\n",
        "\"ppl\": \"people\",\r\n",
        "\"r\": \"are\",\r\n",
        "\"rofl\": \"roll on the floor laughing\",\r\n",
        "\"rpg\": \"role playing games\",\r\n",
        "\"ru\": \"are you\",\r\n",
        "\"shid\": \"slaps head in disgust\",\r\n",
        "\"somy\": \"sick of me yet\",\r\n",
        "\"sot\": \"short of time\",\r\n",
        "\"thanx\": \"thanks\",\r\n",
        "\"thx\": \"thanks\",\r\n",
        "\"ttyl\": \"talk to you later\",\r\n",
        "\"u\": \"you\",\r\n",
        "\"ur\": \"you are\",\r\n",
        "\"uw\": \"you’re welcome\",\r\n",
        "\"wb\": \"welcome back\",\r\n",
        "\"wfm\": \"works for me\",\r\n",
        "\"wibni\": \"wouldn't it be nice if\",\r\n",
        "\"wtf\": \"what the fuck\",\r\n",
        "\"wtg\": \"way to go\",\r\n",
        "\"wtgp\": \"want to go private\",\r\n",
        "\"yrs\": \"years\",\r\n",
        "\"ym\": \"young man\",\r\n",
        "\"gr8\": \"great\"\r\n",
        "}"
      ],
      "execution_count": 79,
      "outputs": []
    },
    {
      "cell_type": "code",
      "metadata": {
        "id": "J7J39b9sezal"
      },
      "source": [
        "def dict_words(text, dictionary):\r\n",
        "    \"\"\"\r\n",
        "    Method to replace a word with a word from the dictionary.\r\n",
        "    The dictionary will have the word to be replaced as key and the new word as value\r\n",
        "    \"\"\"\r\n",
        "    for word in text.split():\r\n",
        "        if word.lower() in dictionary:\r\n",
        "            if word.lower() in text.split():\r\n",
        "                text = text.replace(word, dictionary[word.lower()])\r\n",
        "                print(\"Old: \"+word)\r\n",
        "                print(\"New: \"+text)\r\n",
        "    return text"
      ],
      "execution_count": 80,
      "outputs": []
    },
    {
      "cell_type": "code",
      "metadata": {
        "colab": {
          "base_uri": "https://localhost:8080/"
        },
        "id": "1td0dFFme1Pc",
        "outputId": "454572bf-7966-490e-b57e-88e61afdee6a"
      },
      "source": [
        "text = \"gr8 meeting u irl after the book signing today! really enjoyed your ipad prez & mahalo for the autograph! #sxsw #hisxsw\"\r\n",
        "\r\n",
        "newtext = dict_words(text, short_word_dict)\r\n",
        "print(\"New text: \" + newtext)"
      ],
      "execution_count": 81,
      "outputs": [
        {
          "output_type": "stream",
          "text": [
            "Old: gr8\n",
            "New: great meeting u irl after the book signing today! really enjoyed your ipad prez & mahalo for the autograph! #sxsw #hisxsw\n",
            "Old: u\n",
            "New: great meeting you irl after the book signing today! really enjoyed yoyour ipad prez & mahalo for the ayoutograph! #sxsw #hisxsw\n",
            "Old: irl\n",
            "New: great meeting you in real life after the book signing today! really enjoyed yoyour ipad prez & mahalo for the ayoutograph! #sxsw #hisxsw\n",
            "New text: great meeting you in real life after the book signing today! really enjoyed yoyour ipad prez & mahalo for the ayoutograph! #sxsw #hisxsw\n"
          ],
          "name": "stdout"
        }
      ]
    },
    {
      "cell_type": "code",
      "metadata": {
        "id": "5R46GSyve2-p"
      },
      "source": [
        "data['tweet'] = data['tweet'].replace('[...…]','').str.split().apply(lambda x: ' '.join([short_word_dict.get(e, e) for e in x]))"
      ],
      "execution_count": 82,
      "outputs": []
    },
    {
      "cell_type": "code",
      "metadata": {
        "colab": {
          "base_uri": "https://localhost:8080/",
          "height": 35
        },
        "id": "0j_P6g4Ee4yV",
        "outputId": "fd574007-83df-44fe-cfca-c46ea1594429"
      },
      "source": [
        "data['tweet'][1251]"
      ],
      "execution_count": 83,
      "outputs": [
        {
          "output_type": "execute_result",
          "data": {
            "application/vnd.google.colaboratory.intrinsic+json": {
              "type": "string"
            },
            "text/plain": [
              "'great meeting you in real life after the book signing today! really enjoyed your ipad prez & mahalo for the autograph! #sxsw #hisxsw'"
            ]
          },
          "metadata": {
            "tags": []
          },
          "execution_count": 83
        }
      ]
    },
    {
      "cell_type": "code",
      "metadata": {
        "colab": {
          "base_uri": "https://localhost:8080/",
          "height": 35
        },
        "id": "G34OAlJ4e6SQ",
        "outputId": "e878e3e1-6194-4cac-b6bc-d870ec4b7a80"
      },
      "source": [
        "data['tweet'][2121]"
      ],
      "execution_count": 84,
      "outputs": [
        {
          "output_type": "execute_result",
          "data": {
            "application/vnd.google.colaboratory.intrinsic+json": {
              "type": "string"
            },
            "text/plain": [
              "\"why should/shouldn't i get an ipad 2? discuss smiling #sxsw\""
            ]
          },
          "metadata": {
            "tags": []
          },
          "execution_count": 84
        }
      ]
    },
    {
      "cell_type": "code",
      "metadata": {
        "id": "kBdQ3lsTe7lH"
      },
      "source": [
        "#pre-precessing function\r\n",
        "def preprocess_text(data, col_name):\r\n",
        "    \r\n",
        "    #converting string to lower case\r\n",
        "    data[col_name] = data[col_name].str.lower()\r\n",
        "    \r\n",
        "    #remove user handles\r\n",
        "    data[col_name] = data[col_name].apply(lambda row:remove_pattern(row, \"@[\\w]*\"))\r\n",
        "    \r\n",
        "    #converting html characters to strings\r\n",
        "    data[col_name] = data[col_name].apply(lambda x: BeautifulSoup(x, 'lxml').get_text())\r\n",
        "    \r\n",
        "    #converting emojis to the string they represent\r\n",
        "    data[col_name] = data[col_name].apply(lambda x: handle_emojis(x))\r\n",
        "    \r\n",
        "    #removing URLs from the tweets\r\n",
        "    data[col_name]  = data[col_name].apply(lambda x: re.sub(r'((www\\.[\\S]+)|(https?://[\\S]+))', ' URL ', x))\r\n",
        "    \r\n",
        "    #converting abbreviations to their full forms\r\n",
        "    data[col_name] = data[col_name].replace('[...…]','').str.split().apply(lambda x: ' '.join([short_word_dict.get(e, e) for e in x]))\r\n",
        "    \r\n",
        "    # Remove single space remaining at the front of the tweet.\r\n",
        "    data[col_name] = data[col_name].apply(lambda x: x.lstrip(' '))\r\n",
        "    \r\n",
        "    # Remove characters beyond Basic Multilingual Plane (BMP) of Unicode:\r\n",
        "    data[col_name] = data[col_name].apply(lambda x: ''.join(c for c in x if c <= '\\uFFFF'))\r\n",
        "    \r\n",
        "    #removing non-ASCII characters\r\n",
        "    data[col_name] = data[col_name].apply(lambda x: ''.join([i if ord(i) < 128 else ' ' for i in x]))\r\n",
        "    \r\n",
        "    # Remove words with 2 or fewer letters\r\n",
        "    data[col_name] = data[col_name].apply(lambda x: re.sub(r'\\b\\w{1,2}\\b', '', x))\r\n",
        "    \r\n",
        "    # Convert more than 2 letter repetitions to 2 letter\r\n",
        "    # funnnnny --> funny\r\n",
        "    data[col_name] = data[col_name].apply(lambda x: re.sub(r'(.)\\1+', r'\\1\\1', x))\r\n",
        "    \r\n",
        "    #tokenizing data\r\n",
        "    data[col_name] = data[col_name].apply(lambda x: nltk.word_tokenize(x))\r\n",
        "    \r\n",
        "    #stopwords removal\r\n",
        "    stop_words = list(set(stopwords.words('english')))+list(punctuation)+['``', \"'s\", \"...\", \"n't\", \"'re\", \"''\"]\r\n",
        "    stop_words = list(punctuation)+['``', \"'s\", \"...\", \"n't\", \"'re\", \"''\"]\r\n",
        "    data[col_name] = data[col_name].apply(lambda row: [word for word in row if word not in stop_words])\r\n",
        "    \r\n",
        "#     # stemming words\r\n",
        "#    stemmer = PorterStemmer()\r\n",
        "#    data[col_name] = data[col_name].apply(lambda x: [stemmer.stem(i) for i in x])\r\n",
        "\r\n",
        "    #lemmatization\r\n",
        "    lemmatizer = WordNetLemmatizer()\r\n",
        "    data[col_name] = data[col_name].apply(lambda x: [lemmatizer.lemmatize(i) for i in x])\r\n",
        "\r\n",
        "    \r\n",
        "    data[col_name] = data[col_name].apply(lambda x: ' '.join(x))\r\n",
        "    \r\n",
        "    return data"
      ],
      "execution_count": 85,
      "outputs": []
    },
    {
      "cell_type": "code",
      "metadata": {
        "id": "GAtUhG6Ye_TE"
      },
      "source": [
        "raw_data = pd.read_csv('train.csv')\r\n",
        "raw_data.dropna(inplace=True)"
      ],
      "execution_count": 86,
      "outputs": []
    },
    {
      "cell_type": "code",
      "metadata": {
        "id": "fLSPG7fbfCDt"
      },
      "source": [
        "processed_data = preprocess_text(raw_data, 'tweet')"
      ],
      "execution_count": 87,
      "outputs": []
    },
    {
      "cell_type": "code",
      "metadata": {
        "id": "-GbEf1-jfDaN"
      },
      "source": [
        "processed_data.to_csv('train_withstop.csv', index=False)"
      ],
      "execution_count": 88,
      "outputs": []
    },
    {
      "cell_type": "code",
      "metadata": {
        "colab": {
          "base_uri": "https://localhost:8080/",
          "height": 645
        },
        "id": "4-S-O9kIfOkq",
        "outputId": "4cc7c4c7-2536-4794-bafb-99f645652972"
      },
      "source": [
        "processed_data.head(20)"
      ],
      "execution_count": 89,
      "outputs": [
        {
          "output_type": "execute_result",
          "data": {
            "text/html": [
              "<div>\n",
              "<style scoped>\n",
              "    .dataframe tbody tr th:only-of-type {\n",
              "        vertical-align: middle;\n",
              "    }\n",
              "\n",
              "    .dataframe tbody tr th {\n",
              "        vertical-align: top;\n",
              "    }\n",
              "\n",
              "    .dataframe thead th {\n",
              "        text-align: right;\n",
              "    }\n",
              "</style>\n",
              "<table border=\"1\" class=\"dataframe\">\n",
              "  <thead>\n",
              "    <tr style=\"text-align: right;\">\n",
              "      <th></th>\n",
              "      <th>tweet_id</th>\n",
              "      <th>tweet</th>\n",
              "      <th>sentiment</th>\n",
              "    </tr>\n",
              "  </thead>\n",
              "  <tbody>\n",
              "    <tr>\n",
              "      <th>0</th>\n",
              "      <td>1701</td>\n",
              "      <td>sxswnui sxsw apple defining language touch wit...</td>\n",
              "      <td>1</td>\n",
              "    </tr>\n",
              "    <tr>\n",
              "      <th>1</th>\n",
              "      <td>1851</td>\n",
              "      <td>learning about google doodle all doodle should...</td>\n",
              "      <td>1</td>\n",
              "    </tr>\n",
              "    <tr>\n",
              "      <th>2</th>\n",
              "      <td>2689</td>\n",
              "      <td>one the most -your-face stealing the show year...</td>\n",
              "      <td>2</td>\n",
              "    </tr>\n",
              "    <tr>\n",
              "      <th>3</th>\n",
              "      <td>4525</td>\n",
              "      <td>this iphone sxsw app would pretty awesome didn...</td>\n",
              "      <td>0</td>\n",
              "    </tr>\n",
              "    <tr>\n",
              "      <th>4</th>\n",
              "      <td>3604</td>\n",
              "      <td>line outside the apple store austin waiting fo...</td>\n",
              "      <td>1</td>\n",
              "    </tr>\n",
              "    <tr>\n",
              "      <th>5</th>\n",
              "      <td>966</td>\n",
              "      <td>technews one lone dude awaits ipad apple sxsw ...</td>\n",
              "      <td>1</td>\n",
              "    </tr>\n",
              "    <tr>\n",
              "      <th>6</th>\n",
              "      <td>1395</td>\n",
              "      <td>sxsw tip prince npr video toy shopping with zu...</td>\n",
              "      <td>1</td>\n",
              "    </tr>\n",
              "    <tr>\n",
              "      <th>7</th>\n",
              "      <td>8182</td>\n",
              "      <td>user new ubersocial for iphone now the app sto...</td>\n",
              "      <td>1</td>\n",
              "    </tr>\n",
              "    <tr>\n",
              "      <th>8</th>\n",
              "      <td>8835</td>\n",
              "      <td>free sxsw sampler itunes link freemusic</td>\n",
              "      <td>2</td>\n",
              "    </tr>\n",
              "    <tr>\n",
              "      <th>9</th>\n",
              "      <td>883</td>\n",
              "      <td>think might all weekend without seeing the sam...</td>\n",
              "      <td>2</td>\n",
              "    </tr>\n",
              "    <tr>\n",
              "      <th>10</th>\n",
              "      <td>6398</td>\n",
              "      <td>official sxsw app sxsw bit./hmiiga android iph...</td>\n",
              "      <td>3</td>\n",
              "    </tr>\n",
              "    <tr>\n",
              "      <th>11</th>\n",
              "      <td>2369</td>\n",
              "      <td>official buying ipad sxsw elevate</td>\n",
              "      <td>2</td>\n",
              "    </tr>\n",
              "    <tr>\n",
              "      <th>12</th>\n",
              "      <td>3944</td>\n",
              "      <td>they giving away ipad box and book sxsw techenvy</td>\n",
              "      <td>2</td>\n",
              "    </tr>\n",
              "    <tr>\n",
              "      <th>13</th>\n",
              "      <td>6909</td>\n",
              "      <td>officially sxsw come the grill mention zazzlsx...</td>\n",
              "      <td>1</td>\n",
              "    </tr>\n",
              "    <tr>\n",
              "      <th>14</th>\n",
              "      <td>7917</td>\n",
              "      <td>company watch from the sxsw trade show floor l...</td>\n",
              "      <td>1</td>\n",
              "    </tr>\n",
              "    <tr>\n",
              "      <th>15</th>\n",
              "      <td>5849</td>\n",
              "      <td>google marissa mayer future location augmented...</td>\n",
              "      <td>1</td>\n",
              "    </tr>\n",
              "    <tr>\n",
              "      <th>16</th>\n",
              "      <td>1955</td>\n",
              "      <td>the calyp app get into calyp casa sxsw the fre...</td>\n",
              "      <td>1</td>\n",
              "    </tr>\n",
              "    <tr>\n",
              "      <th>17</th>\n",
              "      <td>1472</td>\n",
              "      <td>well yeah music iphone nerd god cute girl ever...</td>\n",
              "      <td>2</td>\n",
              "    </tr>\n",
              "    <tr>\n",
              "      <th>18</th>\n",
              "      <td>4730</td>\n",
              "      <td>apple open pop store sxsw link via apple ipad2...</td>\n",
              "      <td>1</td>\n",
              "    </tr>\n",
              "    <tr>\n",
              "      <th>19</th>\n",
              "      <td>2166</td>\n",
              "      <td>atleast you are sxsw not there and have ipad d...</td>\n",
              "      <td>1</td>\n",
              "    </tr>\n",
              "  </tbody>\n",
              "</table>\n",
              "</div>"
            ],
            "text/plain": [
              "    tweet_id                                              tweet  sentiment\n",
              "0       1701  sxswnui sxsw apple defining language touch wit...          1\n",
              "1       1851  learning about google doodle all doodle should...          1\n",
              "2       2689  one the most -your-face stealing the show year...          2\n",
              "3       4525  this iphone sxsw app would pretty awesome didn...          0\n",
              "4       3604  line outside the apple store austin waiting fo...          1\n",
              "5        966  technews one lone dude awaits ipad apple sxsw ...          1\n",
              "6       1395  sxsw tip prince npr video toy shopping with zu...          1\n",
              "7       8182  user new ubersocial for iphone now the app sto...          1\n",
              "8       8835            free sxsw sampler itunes link freemusic          2\n",
              "9        883  think might all weekend without seeing the sam...          2\n",
              "10      6398  official sxsw app sxsw bit./hmiiga android iph...          3\n",
              "11      2369                  official buying ipad sxsw elevate          2\n",
              "12      3944   they giving away ipad box and book sxsw techenvy          2\n",
              "13      6909  officially sxsw come the grill mention zazzlsx...          1\n",
              "14      7917  company watch from the sxsw trade show floor l...          1\n",
              "15      5849  google marissa mayer future location augmented...          1\n",
              "16      1955  the calyp app get into calyp casa sxsw the fre...          1\n",
              "17      1472  well yeah music iphone nerd god cute girl ever...          2\n",
              "18      4730  apple open pop store sxsw link via apple ipad2...          1\n",
              "19      2166  atleast you are sxsw not there and have ipad d...          1"
            ]
          },
          "metadata": {
            "tags": []
          },
          "execution_count": 89
        }
      ]
    },
    {
      "cell_type": "code",
      "metadata": {
        "colab": {
          "base_uri": "https://localhost:8080/",
          "height": 197
        },
        "id": "lmlDWwPVfS4J",
        "outputId": "f37f2e1d-31a0-4c9d-d88b-01f07fc8d980"
      },
      "source": [
        "test_data = pd.read_csv('test.csv')\r\n",
        "test_data.head()"
      ],
      "execution_count": 90,
      "outputs": [
        {
          "output_type": "execute_result",
          "data": {
            "text/html": [
              "<div>\n",
              "<style scoped>\n",
              "    .dataframe tbody tr th:only-of-type {\n",
              "        vertical-align: middle;\n",
              "    }\n",
              "\n",
              "    .dataframe tbody tr th {\n",
              "        vertical-align: top;\n",
              "    }\n",
              "\n",
              "    .dataframe thead th {\n",
              "        text-align: right;\n",
              "    }\n",
              "</style>\n",
              "<table border=\"1\" class=\"dataframe\">\n",
              "  <thead>\n",
              "    <tr style=\"text-align: right;\">\n",
              "      <th></th>\n",
              "      <th>tweet_id</th>\n",
              "      <th>tweet</th>\n",
              "    </tr>\n",
              "  </thead>\n",
              "  <tbody>\n",
              "    <tr>\n",
              "      <th>0</th>\n",
              "      <td>7506</td>\n",
              "      <td>Audience Q: What prototyping tools do you use?...</td>\n",
              "    </tr>\n",
              "    <tr>\n",
              "      <th>1</th>\n",
              "      <td>7992</td>\n",
              "      <td>At SXSW? Send Your Best Photos &amp;amp; Videos to...</td>\n",
              "    </tr>\n",
              "    <tr>\n",
              "      <th>2</th>\n",
              "      <td>247</td>\n",
              "      <td>@mention  and here's a pic of you winning your...</td>\n",
              "    </tr>\n",
              "    <tr>\n",
              "      <th>3</th>\n",
              "      <td>7688</td>\n",
              "      <td>Google Marissa Mayer: mobile phone as a cursor...</td>\n",
              "    </tr>\n",
              "    <tr>\n",
              "      <th>4</th>\n",
              "      <td>3294</td>\n",
              "      <td>#SXSW Google maps is even cooler than I thought</td>\n",
              "    </tr>\n",
              "  </tbody>\n",
              "</table>\n",
              "</div>"
            ],
            "text/plain": [
              "   tweet_id                                              tweet\n",
              "0      7506  Audience Q: What prototyping tools do you use?...\n",
              "1      7992  At SXSW? Send Your Best Photos &amp; Videos to...\n",
              "2       247  @mention  and here's a pic of you winning your...\n",
              "3      7688  Google Marissa Mayer: mobile phone as a cursor...\n",
              "4      3294    #SXSW Google maps is even cooler than I thought"
            ]
          },
          "metadata": {
            "tags": []
          },
          "execution_count": 90
        }
      ]
    },
    {
      "cell_type": "code",
      "metadata": {
        "colab": {
          "base_uri": "https://localhost:8080/"
        },
        "id": "gts-F0FXfXiC",
        "outputId": "39557b8a-61ff-472d-d60b-eac94d5aae76"
      },
      "source": [
        "test_data.shape"
      ],
      "execution_count": 91,
      "outputs": [
        {
          "output_type": "execute_result",
          "data": {
            "text/plain": [
              "(1819, 2)"
            ]
          },
          "metadata": {
            "tags": []
          },
          "execution_count": 91
        }
      ]
    },
    {
      "cell_type": "code",
      "metadata": {
        "colab": {
          "base_uri": "https://localhost:8080/",
          "height": 197
        },
        "id": "10TIAmtZfaZl",
        "outputId": "cced580f-6f07-460e-ba25-d7b170230591"
      },
      "source": [
        "test_processed = preprocess_text(test_data, 'tweet')\r\n",
        "test_processed.to_csv('test_withstop.csv', index=False)\r\n",
        "test_processed.head()"
      ],
      "execution_count": 92,
      "outputs": [
        {
          "output_type": "execute_result",
          "data": {
            "text/html": [
              "<div>\n",
              "<style scoped>\n",
              "    .dataframe tbody tr th:only-of-type {\n",
              "        vertical-align: middle;\n",
              "    }\n",
              "\n",
              "    .dataframe tbody tr th {\n",
              "        vertical-align: top;\n",
              "    }\n",
              "\n",
              "    .dataframe thead th {\n",
              "        text-align: right;\n",
              "    }\n",
              "</style>\n",
              "<table border=\"1\" class=\"dataframe\">\n",
              "  <thead>\n",
              "    <tr style=\"text-align: right;\">\n",
              "      <th></th>\n",
              "      <th>tweet_id</th>\n",
              "      <th>tweet</th>\n",
              "    </tr>\n",
              "  </thead>\n",
              "  <tbody>\n",
              "    <tr>\n",
              "      <th>0</th>\n",
              "      <td>7506</td>\n",
              "      <td>audience what prototyping tool you use sketchb...</td>\n",
              "    </tr>\n",
              "    <tr>\n",
              "      <th>1</th>\n",
              "      <td>7992</td>\n",
              "      <td>sxsw send your best photo video .. link citize...</td>\n",
              "    </tr>\n",
              "    <tr>\n",
              "      <th>2</th>\n",
              "      <td>247</td>\n",
              "      <td>and here pic you winning your ipad unsix sxsw ...</td>\n",
              "    </tr>\n",
              "    <tr>\n",
              "      <th>3</th>\n",
              "      <td>7688</td>\n",
              "      <td>google marissa mayer mobile phone cursor physi...</td>\n",
              "    </tr>\n",
              "    <tr>\n",
              "      <th>4</th>\n",
              "      <td>3294</td>\n",
              "      <td>sxsw google map even cooler than thought</td>\n",
              "    </tr>\n",
              "  </tbody>\n",
              "</table>\n",
              "</div>"
            ],
            "text/plain": [
              "   tweet_id                                              tweet\n",
              "0      7506  audience what prototyping tool you use sketchb...\n",
              "1      7992  sxsw send your best photo video .. link citize...\n",
              "2       247  and here pic you winning your ipad unsix sxsw ...\n",
              "3      7688  google marissa mayer mobile phone cursor physi...\n",
              "4      3294           sxsw google map even cooler than thought"
            ]
          },
          "metadata": {
            "tags": []
          },
          "execution_count": 92
        }
      ]
    },
    {
      "cell_type": "code",
      "metadata": {
        "id": "s7hEoYGJfc2T"
      },
      "source": [
        "from sklearn.feature_extraction.text import CountVectorizer\r\n",
        "from sklearn.feature_extraction.text import TfidfVectorizer\r\n",
        "import re\r\n",
        "from scipy.sparse import coo_matrix, hstack\r\n",
        "from sklearn.model_selection import train_test_split\r\n",
        "from sklearn.linear_model import LogisticRegression\r\n",
        "import warnings\r\n",
        "warnings.filterwarnings('ignore')\r\n",
        "from sklearn.metrics import accuracy_score\r\n",
        "from sklearn.metrics import confusion_matrix\r\n",
        "from sklearn.metrics import roc_curve\r\n",
        "from sklearn.metrics import auc\r\n",
        "from sklearn.metrics import roc_auc_score\r\n",
        "import matplotlib.pyplot as plt\r\n",
        "from sklearn.ensemble import RandomForestClassifier\r\n",
        "from sklearn.naive_bayes import GaussianNB\r\n",
        "from sklearn import tree\r\n",
        "from sklearn.ensemble import RandomForestClassifier"
      ],
      "execution_count": 131,
      "outputs": []
    },
    {
      "cell_type": "code",
      "metadata": {
        "colab": {
          "base_uri": "https://localhost:8080/",
          "height": 197
        },
        "id": "c-fSaQq2pG_d",
        "outputId": "bdd898ff-f46e-43aa-bb88-804b4c73c6ad"
      },
      "source": [
        "data = processed_data\r\n",
        "data.head()"
      ],
      "execution_count": 132,
      "outputs": [
        {
          "output_type": "execute_result",
          "data": {
            "text/html": [
              "<div>\n",
              "<style scoped>\n",
              "    .dataframe tbody tr th:only-of-type {\n",
              "        vertical-align: middle;\n",
              "    }\n",
              "\n",
              "    .dataframe tbody tr th {\n",
              "        vertical-align: top;\n",
              "    }\n",
              "\n",
              "    .dataframe thead th {\n",
              "        text-align: right;\n",
              "    }\n",
              "</style>\n",
              "<table border=\"1\" class=\"dataframe\">\n",
              "  <thead>\n",
              "    <tr style=\"text-align: right;\">\n",
              "      <th></th>\n",
              "      <th>tweet_id</th>\n",
              "      <th>tweet</th>\n",
              "      <th>sentiment</th>\n",
              "    </tr>\n",
              "  </thead>\n",
              "  <tbody>\n",
              "    <tr>\n",
              "      <th>0</th>\n",
              "      <td>1701</td>\n",
              "      <td>sxswnui sxsw apple defining language touch wit...</td>\n",
              "      <td>1</td>\n",
              "    </tr>\n",
              "    <tr>\n",
              "      <th>1</th>\n",
              "      <td>1851</td>\n",
              "      <td>learning about google doodle all doodle should...</td>\n",
              "      <td>1</td>\n",
              "    </tr>\n",
              "    <tr>\n",
              "      <th>2</th>\n",
              "      <td>2689</td>\n",
              "      <td>one the most -your-face stealing the show year...</td>\n",
              "      <td>2</td>\n",
              "    </tr>\n",
              "    <tr>\n",
              "      <th>3</th>\n",
              "      <td>4525</td>\n",
              "      <td>this iphone sxsw app would pretty awesome didn...</td>\n",
              "      <td>0</td>\n",
              "    </tr>\n",
              "    <tr>\n",
              "      <th>4</th>\n",
              "      <td>3604</td>\n",
              "      <td>line outside the apple store austin waiting fo...</td>\n",
              "      <td>1</td>\n",
              "    </tr>\n",
              "  </tbody>\n",
              "</table>\n",
              "</div>"
            ],
            "text/plain": [
              "   tweet_id                                              tweet  sentiment\n",
              "0      1701  sxswnui sxsw apple defining language touch wit...          1\n",
              "1      1851  learning about google doodle all doodle should...          1\n",
              "2      2689  one the most -your-face stealing the show year...          2\n",
              "3      4525  this iphone sxsw app would pretty awesome didn...          0\n",
              "4      3604  line outside the apple store austin waiting fo...          1"
            ]
          },
          "metadata": {
            "tags": []
          },
          "execution_count": 132
        }
      ]
    },
    {
      "cell_type": "code",
      "metadata": {
        "id": "E8teI_dMpN0-"
      },
      "source": [
        "data.dropna(inplace=True)"
      ],
      "execution_count": 133,
      "outputs": []
    },
    {
      "cell_type": "code",
      "metadata": {
        "id": "VaIVx6LUpSVD"
      },
      "source": [
        "count_vectorizer = CountVectorizer()\r\n",
        "X = count_vectorizer.fit_transform(data['tweet'])"
      ],
      "execution_count": 129,
      "outputs": []
    },
    {
      "cell_type": "code",
      "metadata": {
        "id": "vYKvwcwRpWC7"
      },
      "source": [
        "tfidf_vectorizer = TfidfVectorizer()\r\n",
        "X = tfidf_vectorizer.fit_transform(data['tweet'])"
      ],
      "execution_count": 134,
      "outputs": []
    },
    {
      "cell_type": "code",
      "metadata": {
        "colab": {
          "base_uri": "https://localhost:8080/"
        },
        "id": "bhWzdNs6pYlm",
        "outputId": "d063d120-972e-4dde-907c-dfe0a7f23794"
      },
      "source": [
        "X.shape"
      ],
      "execution_count": 135,
      "outputs": [
        {
          "output_type": "execute_result",
          "data": {
            "text/plain": [
              "(7273, 7843)"
            ]
          },
          "metadata": {
            "tags": []
          },
          "execution_count": 135
        }
      ]
    },
    {
      "cell_type": "code",
      "metadata": {
        "colab": {
          "base_uri": "https://localhost:8080/"
        },
        "id": "B6znL7DKpaAu",
        "outputId": "a1d34c03-607a-4947-be9e-72b0b3a8116b"
      },
      "source": [
        "lr_model = LogisticRegression()\r\n",
        "lr_model.fit(X, data['sentiment'])"
      ],
      "execution_count": 136,
      "outputs": [
        {
          "output_type": "execute_result",
          "data": {
            "text/plain": [
              "LogisticRegression(C=1.0, class_weight=None, dual=False, fit_intercept=True,\n",
              "                   intercept_scaling=1, l1_ratio=None, max_iter=100,\n",
              "                   multi_class='auto', n_jobs=None, penalty='l2',\n",
              "                   random_state=None, solver='lbfgs', tol=0.0001, verbose=0,\n",
              "                   warm_start=False)"
            ]
          },
          "metadata": {
            "tags": []
          },
          "execution_count": 136
        }
      ]
    },
    {
      "cell_type": "code",
      "metadata": {
        "colab": {
          "base_uri": "https://localhost:8080/",
          "height": 197
        },
        "id": "mwH3zMYvpbqr",
        "outputId": "61976d6f-2ed9-47b8-b97d-867bfefb9abb"
      },
      "source": [
        "test_data = test_processed\r\n",
        "test_data.head()"
      ],
      "execution_count": 137,
      "outputs": [
        {
          "output_type": "execute_result",
          "data": {
            "text/html": [
              "<div>\n",
              "<style scoped>\n",
              "    .dataframe tbody tr th:only-of-type {\n",
              "        vertical-align: middle;\n",
              "    }\n",
              "\n",
              "    .dataframe tbody tr th {\n",
              "        vertical-align: top;\n",
              "    }\n",
              "\n",
              "    .dataframe thead th {\n",
              "        text-align: right;\n",
              "    }\n",
              "</style>\n",
              "<table border=\"1\" class=\"dataframe\">\n",
              "  <thead>\n",
              "    <tr style=\"text-align: right;\">\n",
              "      <th></th>\n",
              "      <th>tweet_id</th>\n",
              "      <th>tweet</th>\n",
              "    </tr>\n",
              "  </thead>\n",
              "  <tbody>\n",
              "    <tr>\n",
              "      <th>0</th>\n",
              "      <td>7506</td>\n",
              "      <td>audience what prototyping tool you use sketchb...</td>\n",
              "    </tr>\n",
              "    <tr>\n",
              "      <th>1</th>\n",
              "      <td>7992</td>\n",
              "      <td>sxsw send your best photo video .. link citize...</td>\n",
              "    </tr>\n",
              "    <tr>\n",
              "      <th>2</th>\n",
              "      <td>247</td>\n",
              "      <td>and here pic you winning your ipad unsix sxsw ...</td>\n",
              "    </tr>\n",
              "    <tr>\n",
              "      <th>3</th>\n",
              "      <td>7688</td>\n",
              "      <td>google marissa mayer mobile phone cursor physi...</td>\n",
              "    </tr>\n",
              "    <tr>\n",
              "      <th>4</th>\n",
              "      <td>3294</td>\n",
              "      <td>sxsw google map even cooler than thought</td>\n",
              "    </tr>\n",
              "  </tbody>\n",
              "</table>\n",
              "</div>"
            ],
            "text/plain": [
              "   tweet_id                                              tweet\n",
              "0      7506  audience what prototyping tool you use sketchb...\n",
              "1      7992  sxsw send your best photo video .. link citize...\n",
              "2       247  and here pic you winning your ipad unsix sxsw ...\n",
              "3      7688  google marissa mayer mobile phone cursor physi...\n",
              "4      3294           sxsw google map even cooler than thought"
            ]
          },
          "metadata": {
            "tags": []
          },
          "execution_count": 137
        }
      ]
    },
    {
      "cell_type": "code",
      "metadata": {
        "id": "oG0iN_OhpjY1"
      },
      "source": [
        "X_test = tfidf_vectorizer.transform(test_data['tweet'])"
      ],
      "execution_count": 138,
      "outputs": []
    },
    {
      "cell_type": "code",
      "metadata": {
        "colab": {
          "base_uri": "https://localhost:8080/"
        },
        "id": "ug0ArrpYppzY",
        "outputId": "7ee978de-c307-4a4c-e88b-aeea8e11711a"
      },
      "source": [
        "X_test.shape"
      ],
      "execution_count": 139,
      "outputs": [
        {
          "output_type": "execute_result",
          "data": {
            "text/plain": [
              "(1819, 7843)"
            ]
          },
          "metadata": {
            "tags": []
          },
          "execution_count": 139
        }
      ]
    },
    {
      "cell_type": "code",
      "metadata": {
        "id": "x-vTXXVaprkr"
      },
      "source": [
        "lr_pred = lr_model.predict(X_test)"
      ],
      "execution_count": 103,
      "outputs": []
    },
    {
      "cell_type": "code",
      "metadata": {
        "colab": {
          "base_uri": "https://localhost:8080/",
          "height": 197
        },
        "id": "eSW5Q_uKptEL",
        "outputId": "0175682c-d493-40d9-9bb5-20941b9f3251"
      },
      "source": [
        "to_submit = pd.DataFrame({'tweet_id': test_data['tweet_id'], 'sentiment': lr_pred})\r\n",
        "to_submit.to_csv('lr_cv_withstop.csv', index=False)\r\n",
        "to_submit.head()"
      ],
      "execution_count": 104,
      "outputs": [
        {
          "output_type": "execute_result",
          "data": {
            "text/html": [
              "<div>\n",
              "<style scoped>\n",
              "    .dataframe tbody tr th:only-of-type {\n",
              "        vertical-align: middle;\n",
              "    }\n",
              "\n",
              "    .dataframe tbody tr th {\n",
              "        vertical-align: top;\n",
              "    }\n",
              "\n",
              "    .dataframe thead th {\n",
              "        text-align: right;\n",
              "    }\n",
              "</style>\n",
              "<table border=\"1\" class=\"dataframe\">\n",
              "  <thead>\n",
              "    <tr style=\"text-align: right;\">\n",
              "      <th></th>\n",
              "      <th>tweet_id</th>\n",
              "      <th>sentiment</th>\n",
              "    </tr>\n",
              "  </thead>\n",
              "  <tbody>\n",
              "    <tr>\n",
              "      <th>0</th>\n",
              "      <td>7506</td>\n",
              "      <td>1</td>\n",
              "    </tr>\n",
              "    <tr>\n",
              "      <th>1</th>\n",
              "      <td>7992</td>\n",
              "      <td>1</td>\n",
              "    </tr>\n",
              "    <tr>\n",
              "      <th>2</th>\n",
              "      <td>247</td>\n",
              "      <td>1</td>\n",
              "    </tr>\n",
              "    <tr>\n",
              "      <th>3</th>\n",
              "      <td>7688</td>\n",
              "      <td>2</td>\n",
              "    </tr>\n",
              "    <tr>\n",
              "      <th>4</th>\n",
              "      <td>3294</td>\n",
              "      <td>2</td>\n",
              "    </tr>\n",
              "  </tbody>\n",
              "</table>\n",
              "</div>"
            ],
            "text/plain": [
              "   tweet_id  sentiment\n",
              "0      7506          1\n",
              "1      7992          1\n",
              "2       247          1\n",
              "3      7688          2\n",
              "4      3294          2"
            ]
          },
          "metadata": {
            "tags": []
          },
          "execution_count": 104
        }
      ]
    },
    {
      "cell_type": "code",
      "metadata": {
        "colab": {
          "base_uri": "https://localhost:8080/"
        },
        "id": "0mqE_TgLpwmU",
        "outputId": "5b618505-626e-4dec-d5f0-c5be6415d678"
      },
      "source": [
        "to_submit['sentiment'].value_counts()"
      ],
      "execution_count": 105,
      "outputs": [
        {
          "output_type": "execute_result",
          "data": {
            "text/plain": [
              "1    1349\n",
              "2     455\n",
              "0      15\n",
              "Name: sentiment, dtype: int64"
            ]
          },
          "metadata": {
            "tags": []
          },
          "execution_count": 105
        }
      ]
    },
    {
      "cell_type": "code",
      "metadata": {
        "id": "X-xptWQMp3qQ"
      },
      "source": [
        "X = X.toarray()\r\n",
        "X_test = X_test.toarray()"
      ],
      "execution_count": 106,
      "outputs": []
    },
    {
      "cell_type": "code",
      "metadata": {
        "colab": {
          "base_uri": "https://localhost:8080/"
        },
        "id": "5je9sCVKqRxz",
        "outputId": "693df582-fff3-415b-dd18-0d63804773e1"
      },
      "source": [
        "gnb = GaussianNB()\r\n",
        "gnb_pred = gnb.fit(X, data['sentiment']).predict(X_test)\r\n",
        "gnb_pred"
      ],
      "execution_count": 107,
      "outputs": [
        {
          "output_type": "execute_result",
          "data": {
            "text/plain": [
              "array([1, 1, 2, ..., 0, 1, 1])"
            ]
          },
          "metadata": {
            "tags": []
          },
          "execution_count": 107
        }
      ]
    },
    {
      "cell_type": "code",
      "metadata": {
        "colab": {
          "base_uri": "https://localhost:8080/",
          "height": 197
        },
        "id": "qrWCWQeYqTxu",
        "outputId": "c4696741-b18d-468a-c009-e5d0dc134714"
      },
      "source": [
        "to_submit = pd.DataFrame({'tweet_id': test_data['tweet_id'], 'sentiment': gnb_pred})\r\n",
        "to_submit.to_csv('gnb_pred.csv', index=False)\r\n",
        "to_submit.head()"
      ],
      "execution_count": 108,
      "outputs": [
        {
          "output_type": "execute_result",
          "data": {
            "text/html": [
              "<div>\n",
              "<style scoped>\n",
              "    .dataframe tbody tr th:only-of-type {\n",
              "        vertical-align: middle;\n",
              "    }\n",
              "\n",
              "    .dataframe tbody tr th {\n",
              "        vertical-align: top;\n",
              "    }\n",
              "\n",
              "    .dataframe thead th {\n",
              "        text-align: right;\n",
              "    }\n",
              "</style>\n",
              "<table border=\"1\" class=\"dataframe\">\n",
              "  <thead>\n",
              "    <tr style=\"text-align: right;\">\n",
              "      <th></th>\n",
              "      <th>tweet_id</th>\n",
              "      <th>sentiment</th>\n",
              "    </tr>\n",
              "  </thead>\n",
              "  <tbody>\n",
              "    <tr>\n",
              "      <th>0</th>\n",
              "      <td>7506</td>\n",
              "      <td>1</td>\n",
              "    </tr>\n",
              "    <tr>\n",
              "      <th>1</th>\n",
              "      <td>7992</td>\n",
              "      <td>1</td>\n",
              "    </tr>\n",
              "    <tr>\n",
              "      <th>2</th>\n",
              "      <td>247</td>\n",
              "      <td>2</td>\n",
              "    </tr>\n",
              "    <tr>\n",
              "      <th>3</th>\n",
              "      <td>7688</td>\n",
              "      <td>2</td>\n",
              "    </tr>\n",
              "    <tr>\n",
              "      <th>4</th>\n",
              "      <td>3294</td>\n",
              "      <td>2</td>\n",
              "    </tr>\n",
              "  </tbody>\n",
              "</table>\n",
              "</div>"
            ],
            "text/plain": [
              "   tweet_id  sentiment\n",
              "0      7506          1\n",
              "1      7992          1\n",
              "2       247          2\n",
              "3      7688          2\n",
              "4      3294          2"
            ]
          },
          "metadata": {
            "tags": []
          },
          "execution_count": 108
        }
      ]
    },
    {
      "cell_type": "code",
      "metadata": {
        "colab": {
          "base_uri": "https://localhost:8080/",
          "height": 197
        },
        "id": "ib6PrYjWqWI0",
        "outputId": "77274c8e-fdee-403f-cd20-b4942423d2b7"
      },
      "source": [
        "dtree = tree.DecisionTreeClassifier()\r\n",
        "dtree.fit(X, data['sentiment'])\r\n",
        "dt_pred = dtree.predict(X_test)\r\n",
        "to_submit = pd.DataFrame({'tweet_id': test_data['tweet_id'], 'sentiment': dt_pred})\r\n",
        "to_submit.to_csv('dtree_pred.csv', index=False)\r\n",
        "to_submit.head()"
      ],
      "execution_count": 109,
      "outputs": [
        {
          "output_type": "execute_result",
          "data": {
            "text/html": [
              "<div>\n",
              "<style scoped>\n",
              "    .dataframe tbody tr th:only-of-type {\n",
              "        vertical-align: middle;\n",
              "    }\n",
              "\n",
              "    .dataframe tbody tr th {\n",
              "        vertical-align: top;\n",
              "    }\n",
              "\n",
              "    .dataframe thead th {\n",
              "        text-align: right;\n",
              "    }\n",
              "</style>\n",
              "<table border=\"1\" class=\"dataframe\">\n",
              "  <thead>\n",
              "    <tr style=\"text-align: right;\">\n",
              "      <th></th>\n",
              "      <th>tweet_id</th>\n",
              "      <th>sentiment</th>\n",
              "    </tr>\n",
              "  </thead>\n",
              "  <tbody>\n",
              "    <tr>\n",
              "      <th>0</th>\n",
              "      <td>7506</td>\n",
              "      <td>1</td>\n",
              "    </tr>\n",
              "    <tr>\n",
              "      <th>1</th>\n",
              "      <td>7992</td>\n",
              "      <td>1</td>\n",
              "    </tr>\n",
              "    <tr>\n",
              "      <th>2</th>\n",
              "      <td>247</td>\n",
              "      <td>1</td>\n",
              "    </tr>\n",
              "    <tr>\n",
              "      <th>3</th>\n",
              "      <td>7688</td>\n",
              "      <td>3</td>\n",
              "    </tr>\n",
              "    <tr>\n",
              "      <th>4</th>\n",
              "      <td>3294</td>\n",
              "      <td>2</td>\n",
              "    </tr>\n",
              "  </tbody>\n",
              "</table>\n",
              "</div>"
            ],
            "text/plain": [
              "   tweet_id  sentiment\n",
              "0      7506          1\n",
              "1      7992          1\n",
              "2       247          1\n",
              "3      7688          3\n",
              "4      3294          2"
            ]
          },
          "metadata": {
            "tags": []
          },
          "execution_count": 109
        }
      ]
    },
    {
      "cell_type": "code",
      "metadata": {
        "colab": {
          "base_uri": "https://localhost:8080/",
          "height": 197
        },
        "id": "YKCj15BFqZBZ",
        "outputId": "a55dc97b-311b-4591-9ca2-d5656ebf3311"
      },
      "source": [
        "rf_model = RandomForestClassifier(random_state=42)\r\n",
        "rf_model.fit(X, data['sentiment'])\r\n",
        "rf_pred = rf_model.predict(X_test)\r\n",
        "to_submit = pd.DataFrame({'tweet_id': test_data['tweet_id'], 'sentiment': rf_pred})\r\n",
        "to_submit.to_csv('rf_pred.csv', index=False)\r\n",
        "to_submit.head()"
      ],
      "execution_count": 110,
      "outputs": [
        {
          "output_type": "execute_result",
          "data": {
            "text/html": [
              "<div>\n",
              "<style scoped>\n",
              "    .dataframe tbody tr th:only-of-type {\n",
              "        vertical-align: middle;\n",
              "    }\n",
              "\n",
              "    .dataframe tbody tr th {\n",
              "        vertical-align: top;\n",
              "    }\n",
              "\n",
              "    .dataframe thead th {\n",
              "        text-align: right;\n",
              "    }\n",
              "</style>\n",
              "<table border=\"1\" class=\"dataframe\">\n",
              "  <thead>\n",
              "    <tr style=\"text-align: right;\">\n",
              "      <th></th>\n",
              "      <th>tweet_id</th>\n",
              "      <th>sentiment</th>\n",
              "    </tr>\n",
              "  </thead>\n",
              "  <tbody>\n",
              "    <tr>\n",
              "      <th>0</th>\n",
              "      <td>7506</td>\n",
              "      <td>1</td>\n",
              "    </tr>\n",
              "    <tr>\n",
              "      <th>1</th>\n",
              "      <td>7992</td>\n",
              "      <td>1</td>\n",
              "    </tr>\n",
              "    <tr>\n",
              "      <th>2</th>\n",
              "      <td>247</td>\n",
              "      <td>1</td>\n",
              "    </tr>\n",
              "    <tr>\n",
              "      <th>3</th>\n",
              "      <td>7688</td>\n",
              "      <td>2</td>\n",
              "    </tr>\n",
              "    <tr>\n",
              "      <th>4</th>\n",
              "      <td>3294</td>\n",
              "      <td>2</td>\n",
              "    </tr>\n",
              "  </tbody>\n",
              "</table>\n",
              "</div>"
            ],
            "text/plain": [
              "   tweet_id  sentiment\n",
              "0      7506          1\n",
              "1      7992          1\n",
              "2       247          1\n",
              "3      7688          2\n",
              "4      3294          2"
            ]
          },
          "metadata": {
            "tags": []
          },
          "execution_count": 110
        }
      ]
    },
    {
      "cell_type": "code",
      "metadata": {
        "colab": {
          "base_uri": "https://localhost:8080/"
        },
        "id": "9TfY9Anbqdig",
        "outputId": "d0ba8a79-b8d7-4d02-ae1c-821f3d2b2b23"
      },
      "source": [
        "from xgboost import XGBClassifier\r\n",
        "!pip install catboost\r\n",
        "from catboost import CatBoostClassifier\r\n",
        "from sklearn.feature_extraction.text import CountVectorizer\r\n",
        "from sklearn.model_selection import RandomizedSearchCV, GridSearchCV"
      ],
      "execution_count": 111,
      "outputs": [
        {
          "output_type": "stream",
          "text": [
            "Collecting catboost\n",
            "\u001b[?25l  Downloading https://files.pythonhosted.org/packages/20/37/bc4e0ddc30c07a96482abf1de7ed1ca54e59bba2026a33bca6d2ef286e5b/catboost-0.24.4-cp36-none-manylinux1_x86_64.whl (65.7MB)\n",
            "\u001b[K     |████████████████████████████████| 65.8MB 55kB/s \n",
            "\u001b[?25hRequirement already satisfied: graphviz in /usr/local/lib/python3.6/dist-packages (from catboost) (0.10.1)\n",
            "Requirement already satisfied: numpy>=1.16.0 in /usr/local/lib/python3.6/dist-packages (from catboost) (1.19.4)\n",
            "Requirement already satisfied: scipy in /usr/local/lib/python3.6/dist-packages (from catboost) (1.4.1)\n",
            "Requirement already satisfied: six in /usr/local/lib/python3.6/dist-packages (from catboost) (1.15.0)\n",
            "Requirement already satisfied: matplotlib in /usr/local/lib/python3.6/dist-packages (from catboost) (3.2.2)\n",
            "Requirement already satisfied: plotly in /usr/local/lib/python3.6/dist-packages (from catboost) (4.4.1)\n",
            "Requirement already satisfied: pandas>=0.24.0 in /usr/local/lib/python3.6/dist-packages (from catboost) (1.1.5)\n",
            "Requirement already satisfied: cycler>=0.10 in /usr/local/lib/python3.6/dist-packages (from matplotlib->catboost) (0.10.0)\n",
            "Requirement already satisfied: python-dateutil>=2.1 in /usr/local/lib/python3.6/dist-packages (from matplotlib->catboost) (2.8.1)\n",
            "Requirement already satisfied: pyparsing!=2.0.4,!=2.1.2,!=2.1.6,>=2.0.1 in /usr/local/lib/python3.6/dist-packages (from matplotlib->catboost) (2.4.7)\n",
            "Requirement already satisfied: kiwisolver>=1.0.1 in /usr/local/lib/python3.6/dist-packages (from matplotlib->catboost) (1.3.1)\n",
            "Requirement already satisfied: retrying>=1.3.3 in /usr/local/lib/python3.6/dist-packages (from plotly->catboost) (1.3.3)\n",
            "Requirement already satisfied: pytz>=2017.2 in /usr/local/lib/python3.6/dist-packages (from pandas>=0.24.0->catboost) (2018.9)\n",
            "Installing collected packages: catboost\n",
            "Successfully installed catboost-0.24.4\n"
          ],
          "name": "stdout"
        }
      ]
    },
    {
      "cell_type": "code",
      "metadata": {
        "id": "Me1ylq-5z0eI"
      },
      "source": [
        "processed_train = processed_data\r\n",
        "processed_train.dropna(inplace=True)"
      ],
      "execution_count": 112,
      "outputs": []
    },
    {
      "cell_type": "code",
      "metadata": {
        "id": "2ehIMWiC0AEr"
      },
      "source": [
        "test_data = test_processed"
      ],
      "execution_count": 113,
      "outputs": []
    },
    {
      "cell_type": "code",
      "metadata": {
        "id": "UOPl-Htf0FcJ"
      },
      "source": [
        "count_vectorizer = CountVectorizer()\r\n",
        "X_train = count_vectorizer.fit_transform(processed_train['tweet'])"
      ],
      "execution_count": 114,
      "outputs": []
    },
    {
      "cell_type": "code",
      "metadata": {
        "colab": {
          "base_uri": "https://localhost:8080/"
        },
        "id": "raxM93990IFC",
        "outputId": "6406e0a5-bf23-4308-f648-5ac8b3be60d1"
      },
      "source": [
        "X_train.shape"
      ],
      "execution_count": 115,
      "outputs": [
        {
          "output_type": "execute_result",
          "data": {
            "text/plain": [
              "(7273, 7843)"
            ]
          },
          "metadata": {
            "tags": []
          },
          "execution_count": 115
        }
      ]
    },
    {
      "cell_type": "code",
      "metadata": {
        "id": "-WUlsgt70Kjx"
      },
      "source": [
        "X_test = count_vectorizer.transform(test_data['tweet'])"
      ],
      "execution_count": 116,
      "outputs": []
    },
    {
      "cell_type": "code",
      "metadata": {
        "colab": {
          "base_uri": "https://localhost:8080/"
        },
        "id": "o6oJG3Pu0Lz3",
        "outputId": "47c4759e-2d1e-4e11-8cb6-f145a5e5fe24"
      },
      "source": [
        "X_test.shape"
      ],
      "execution_count": 117,
      "outputs": [
        {
          "output_type": "execute_result",
          "data": {
            "text/plain": [
              "(1819, 7843)"
            ]
          },
          "metadata": {
            "tags": []
          },
          "execution_count": 117
        }
      ]
    },
    {
      "cell_type": "code",
      "metadata": {
        "id": "eGpNmk7y0M3j"
      },
      "source": [
        "from sklearn.metrics import f1_score, make_scorer\r\n",
        "\r\n",
        "f1 = make_scorer(f1_score , average='macro')"
      ],
      "execution_count": 118,
      "outputs": []
    },
    {
      "cell_type": "code",
      "metadata": {
        "id": "okdeJL7Q0PhH"
      },
      "source": [
        "\r\n",
        "xgb = XGBClassifier()\r\n",
        "\r\n",
        "optimization_dict = {'max_depth': [2,3,4,5,6,7],\r\n",
        "                     'n_estimators': [50,60,70,80,90,100,150,200]}\r\n",
        "\r\n",
        "model = GridSearchCV(xgb, optimization_dict, \r\n",
        "                     scoring=f1, verbose=5)\r\n",
        "model.fit(X_train, processed_train['sentiment'])"
      ],
      "execution_count": null,
      "outputs": []
    },
    {
      "cell_type": "code",
      "metadata": {
        "id": "nXOdl4DE0Reb",
        "colab": {
          "base_uri": "https://localhost:8080/"
        },
        "outputId": "d3cd0110-d483-42fd-a534-fc788655f897"
      },
      "source": [
        "print(model.best_score_)\r\n",
        "print(model.best_params_)"
      ],
      "execution_count": 120,
      "outputs": [
        {
          "output_type": "stream",
          "text": [
            "0.37079999872460934\n",
            "{'max_depth': 7, 'n_estimators': 200}\n"
          ],
          "name": "stdout"
        }
      ]
    },
    {
      "cell_type": "code",
      "metadata": {
        "id": "aiO-Cn7R0VaJ"
      },
      "source": [
        "grid_pred = model.predict(X_test)"
      ],
      "execution_count": 121,
      "outputs": []
    },
    {
      "cell_type": "code",
      "metadata": {
        "id": "iMFzTb-s0Xqz",
        "colab": {
          "base_uri": "https://localhost:8080/",
          "height": 197
        },
        "outputId": "5e9d37fe-d7b8-43d1-e8b8-6a215d380eea"
      },
      "source": [
        "\r\n",
        "to_submit = pd.DataFrame({'tweet_id': test_data['tweet_id'], 'sentiment': grid_pred})\r\n",
        "to_submit.to_csv('grid_pred.csv', index=False)\r\n",
        "to_submit.head()"
      ],
      "execution_count": 122,
      "outputs": [
        {
          "output_type": "execute_result",
          "data": {
            "text/html": [
              "<div>\n",
              "<style scoped>\n",
              "    .dataframe tbody tr th:only-of-type {\n",
              "        vertical-align: middle;\n",
              "    }\n",
              "\n",
              "    .dataframe tbody tr th {\n",
              "        vertical-align: top;\n",
              "    }\n",
              "\n",
              "    .dataframe thead th {\n",
              "        text-align: right;\n",
              "    }\n",
              "</style>\n",
              "<table border=\"1\" class=\"dataframe\">\n",
              "  <thead>\n",
              "    <tr style=\"text-align: right;\">\n",
              "      <th></th>\n",
              "      <th>tweet_id</th>\n",
              "      <th>sentiment</th>\n",
              "    </tr>\n",
              "  </thead>\n",
              "  <tbody>\n",
              "    <tr>\n",
              "      <th>0</th>\n",
              "      <td>7506</td>\n",
              "      <td>1</td>\n",
              "    </tr>\n",
              "    <tr>\n",
              "      <th>1</th>\n",
              "      <td>7992</td>\n",
              "      <td>1</td>\n",
              "    </tr>\n",
              "    <tr>\n",
              "      <th>2</th>\n",
              "      <td>247</td>\n",
              "      <td>1</td>\n",
              "    </tr>\n",
              "    <tr>\n",
              "      <th>3</th>\n",
              "      <td>7688</td>\n",
              "      <td>2</td>\n",
              "    </tr>\n",
              "    <tr>\n",
              "      <th>4</th>\n",
              "      <td>3294</td>\n",
              "      <td>1</td>\n",
              "    </tr>\n",
              "  </tbody>\n",
              "</table>\n",
              "</div>"
            ],
            "text/plain": [
              "   tweet_id  sentiment\n",
              "0      7506          1\n",
              "1      7992          1\n",
              "2       247          1\n",
              "3      7688          2\n",
              "4      3294          1"
            ]
          },
          "metadata": {
            "tags": []
          },
          "execution_count": 122
        }
      ]
    },
    {
      "cell_type": "code",
      "metadata": {
        "id": "fOTq-zDY0aOu"
      },
      "source": [
        "xgb.fit(X_train, processed_train['sentiment'])\r\n",
        "xgb_pred = xgb.predict(X_test)"
      ],
      "execution_count": 123,
      "outputs": []
    },
    {
      "cell_type": "code",
      "metadata": {
        "id": "BLFHYQaw0b-a",
        "colab": {
          "base_uri": "https://localhost:8080/",
          "height": 197
        },
        "outputId": "facad0d1-d888-4af7-a1a9-619c137b4545"
      },
      "source": [
        "to_submit = pd.DataFrame({'tweet_id': test_data['tweet_id'], 'sentiment': xgb_pred})\r\n",
        "to_submit.to_csv('xgb_pred.csv', index=False)\r\n",
        "to_submit.head()"
      ],
      "execution_count": 124,
      "outputs": [
        {
          "output_type": "execute_result",
          "data": {
            "text/html": [
              "<div>\n",
              "<style scoped>\n",
              "    .dataframe tbody tr th:only-of-type {\n",
              "        vertical-align: middle;\n",
              "    }\n",
              "\n",
              "    .dataframe tbody tr th {\n",
              "        vertical-align: top;\n",
              "    }\n",
              "\n",
              "    .dataframe thead th {\n",
              "        text-align: right;\n",
              "    }\n",
              "</style>\n",
              "<table border=\"1\" class=\"dataframe\">\n",
              "  <thead>\n",
              "    <tr style=\"text-align: right;\">\n",
              "      <th></th>\n",
              "      <th>tweet_id</th>\n",
              "      <th>sentiment</th>\n",
              "    </tr>\n",
              "  </thead>\n",
              "  <tbody>\n",
              "    <tr>\n",
              "      <th>0</th>\n",
              "      <td>7506</td>\n",
              "      <td>1</td>\n",
              "    </tr>\n",
              "    <tr>\n",
              "      <th>1</th>\n",
              "      <td>7992</td>\n",
              "      <td>1</td>\n",
              "    </tr>\n",
              "    <tr>\n",
              "      <th>2</th>\n",
              "      <td>247</td>\n",
              "      <td>1</td>\n",
              "    </tr>\n",
              "    <tr>\n",
              "      <th>3</th>\n",
              "      <td>7688</td>\n",
              "      <td>1</td>\n",
              "    </tr>\n",
              "    <tr>\n",
              "      <th>4</th>\n",
              "      <td>3294</td>\n",
              "      <td>1</td>\n",
              "    </tr>\n",
              "  </tbody>\n",
              "</table>\n",
              "</div>"
            ],
            "text/plain": [
              "   tweet_id  sentiment\n",
              "0      7506          1\n",
              "1      7992          1\n",
              "2       247          1\n",
              "3      7688          1\n",
              "4      3294          1"
            ]
          },
          "metadata": {
            "tags": []
          },
          "execution_count": 124
        }
      ]
    },
    {
      "cell_type": "code",
      "metadata": {
        "id": "4jFizeCl0fGU",
        "colab": {
          "base_uri": "https://localhost:8080/",
          "height": 197
        },
        "outputId": "0931d93f-6cd0-4032-d1e6-c7a300acd618"
      },
      "source": [
        "from sklearn.naive_bayes import MultinomialNB\r\n",
        "mnb = MultinomialNB()\r\n",
        "mnb_pred = mnb.fit(X_train, processed_train['sentiment']).predict(X_test)\r\n",
        "to_submit = pd.DataFrame({'tweet_id': test_data['tweet_id'], 'sentiment': mnb_pred})\r\n",
        "to_submit.to_csv('mnb_pred.csv', index=False)\r\n",
        "to_submit.head()"
      ],
      "execution_count": 125,
      "outputs": [
        {
          "output_type": "execute_result",
          "data": {
            "text/html": [
              "<div>\n",
              "<style scoped>\n",
              "    .dataframe tbody tr th:only-of-type {\n",
              "        vertical-align: middle;\n",
              "    }\n",
              "\n",
              "    .dataframe tbody tr th {\n",
              "        vertical-align: top;\n",
              "    }\n",
              "\n",
              "    .dataframe thead th {\n",
              "        text-align: right;\n",
              "    }\n",
              "</style>\n",
              "<table border=\"1\" class=\"dataframe\">\n",
              "  <thead>\n",
              "    <tr style=\"text-align: right;\">\n",
              "      <th></th>\n",
              "      <th>tweet_id</th>\n",
              "      <th>sentiment</th>\n",
              "    </tr>\n",
              "  </thead>\n",
              "  <tbody>\n",
              "    <tr>\n",
              "      <th>0</th>\n",
              "      <td>7506</td>\n",
              "      <td>1</td>\n",
              "    </tr>\n",
              "    <tr>\n",
              "      <th>1</th>\n",
              "      <td>7992</td>\n",
              "      <td>1</td>\n",
              "    </tr>\n",
              "    <tr>\n",
              "      <th>2</th>\n",
              "      <td>247</td>\n",
              "      <td>1</td>\n",
              "    </tr>\n",
              "    <tr>\n",
              "      <th>3</th>\n",
              "      <td>7688</td>\n",
              "      <td>2</td>\n",
              "    </tr>\n",
              "    <tr>\n",
              "      <th>4</th>\n",
              "      <td>3294</td>\n",
              "      <td>2</td>\n",
              "    </tr>\n",
              "  </tbody>\n",
              "</table>\n",
              "</div>"
            ],
            "text/plain": [
              "   tweet_id  sentiment\n",
              "0      7506          1\n",
              "1      7992          1\n",
              "2       247          1\n",
              "3      7688          2\n",
              "4      3294          2"
            ]
          },
          "metadata": {
            "tags": []
          },
          "execution_count": 125
        }
      ]
    },
    {
      "cell_type": "code",
      "metadata": {
        "id": "XhRwfwQA0gtP"
      },
      "source": [
        "from sklearn.pipeline import Pipeline\r\n",
        "from sklearn.feature_extraction.text import CountVectorizer\r\n",
        "from sklearn.feature_extraction.text import TfidfTransformer\r\n",
        "from sklearn.linear_model import SGDClassifier\r\n",
        "from imblearn.over_sampling import ADASYN, SMOTE, RandomOverSampler\r\n",
        "from sklearn.svm import LinearSVC"
      ],
      "execution_count": 242,
      "outputs": []
    },
    {
      "cell_type": "code",
      "metadata": {
        "id": "iIx6j3n0LZAP"
      },
      "source": [
        "pipeline_sgd = Pipeline([\r\n",
        "    ('vect', CountVectorizer()),\r\n",
        "    ('tfidf',  TfidfTransformer()),\r\n",
        "    ('nb', SGDClassifier()),\r\n",
        "])"
      ],
      "execution_count": 243,
      "outputs": []
    },
    {
      "cell_type": "code",
      "metadata": {
        "colab": {
          "base_uri": "https://localhost:8080/"
        },
        "id": "ZzInCHtOLhVi",
        "outputId": "6eb850f2-f9cc-4949-c056-6d5c76fe56da"
      },
      "source": [
        "processed_train['sentiment'].value_counts()"
      ],
      "execution_count": 244,
      "outputs": [
        {
          "output_type": "execute_result",
          "data": {
            "text/plain": [
              "1    4310\n",
              "2    2382\n",
              "0     456\n",
              "3     125\n",
              "Name: sentiment, dtype: int64"
            ]
          },
          "metadata": {
            "tags": []
          },
          "execution_count": 244
        }
      ]
    },
    {
      "cell_type": "code",
      "metadata": {
        "id": "0JTNk04eLs0W"
      },
      "source": [
        "tfidf_vectorizer = TfidfVectorizer()\r\n",
        "X = tfidf_vectorizer.fit_transform(processed_train['tweet'])"
      ],
      "execution_count": 235,
      "outputs": []
    },
    {
      "cell_type": "code",
      "metadata": {
        "id": "ssQ3JR7BNEh9"
      },
      "source": [
        "count_vectorizer = CountVectorizer(ngram_range=(1, 3))\r\n",
        "X = count_vectorizer.fit_transform(processed_train['tweet'])"
      ],
      "execution_count": 245,
      "outputs": []
    },
    {
      "cell_type": "code",
      "metadata": {
        "colab": {
          "base_uri": "https://localhost:8080/"
        },
        "id": "y583dHDkL1XK",
        "outputId": "57f6a220-8163-414d-96ff-87c00ec3939c"
      },
      "source": [
        "X.shape"
      ],
      "execution_count": 246,
      "outputs": [
        {
          "output_type": "execute_result",
          "data": {
            "text/plain": [
              "(7273, 97074)"
            ]
          },
          "metadata": {
            "tags": []
          },
          "execution_count": 246
        }
      ]
    },
    {
      "cell_type": "code",
      "metadata": {
        "id": "jqZ9ifLtL7zv"
      },
      "source": [
        "ros = RandomOverSampler(random_state=3)\r\n",
        "data_res, label_res = ros.fit_sample(X, processed_train['sentiment'])"
      ],
      "execution_count": 219,
      "outputs": []
    },
    {
      "cell_type": "code",
      "metadata": {
        "id": "I2k60D_AN0h4"
      },
      "source": [
        "smt = SMOTE(random_state=777, k_neighbors=1)\r\n",
        "data_res, label_res = smt.fit_sample(X, processed_train['sentiment'])"
      ],
      "execution_count": 247,
      "outputs": []
    },
    {
      "cell_type": "code",
      "metadata": {
        "colab": {
          "base_uri": "https://localhost:8080/"
        },
        "id": "lW5qNySiL-OI",
        "outputId": "cb983e82-922b-42a2-d153-e3d136d6390b"
      },
      "source": [
        "data_res.shape"
      ],
      "execution_count": 248,
      "outputs": [
        {
          "output_type": "execute_result",
          "data": {
            "text/plain": [
              "(17240, 97074)"
            ]
          },
          "metadata": {
            "tags": []
          },
          "execution_count": 248
        }
      ]
    },
    {
      "cell_type": "code",
      "metadata": {
        "colab": {
          "base_uri": "https://localhost:8080/"
        },
        "id": "w3pdHgmiMDri",
        "outputId": "04f74dd0-8fd4-4dae-b1d4-0d12af1c7400"
      },
      "source": [
        "label_res.shape"
      ],
      "execution_count": 249,
      "outputs": [
        {
          "output_type": "execute_result",
          "data": {
            "text/plain": [
              "(17240,)"
            ]
          },
          "metadata": {
            "tags": []
          },
          "execution_count": 249
        }
      ]
    },
    {
      "cell_type": "code",
      "metadata": {
        "id": "dn7GAHh7MFfe"
      },
      "source": [
        "X_test = count_vectorizer.transform(test_data['tweet'])"
      ],
      "execution_count": 250,
      "outputs": []
    },
    {
      "cell_type": "code",
      "metadata": {
        "colab": {
          "base_uri": "https://localhost:8080/"
        },
        "id": "gHrfYhM7MJZG",
        "outputId": "a450440b-bf23-4ef1-f4ee-b2fbdc34cf37"
      },
      "source": [
        "X_test.shape"
      ],
      "execution_count": 251,
      "outputs": [
        {
          "output_type": "execute_result",
          "data": {
            "text/plain": [
              "(1819, 97074)"
            ]
          },
          "metadata": {
            "tags": []
          },
          "execution_count": 251
        }
      ]
    },
    {
      "cell_type": "code",
      "metadata": {
        "id": "c-kgEfdLMr6w"
      },
      "source": [
        "from sklearn.linear_model import LogisticRegression\r\n",
        "lr_model = LogisticRegression(max_iter=7600)\r\n",
        "lr_model.fit(data_res, label_res)\r\n",
        "lr_pred = lr_model.predict(X_test)"
      ],
      "execution_count": 195,
      "outputs": []
    },
    {
      "cell_type": "code",
      "metadata": {
        "colab": {
          "base_uri": "https://localhost:8080/"
        },
        "id": "KaxHEKNKObaP",
        "outputId": "d3e135ec-db49-4103-e4cd-353596463d58"
      },
      "source": [
        "svc = LinearSVC(penalty='l2', C=0.5, dual=False, random_state=0, max_iter=1000)\r\n",
        "svc.fit(X, processed_train['sentiment'])\r\n",
        "svc_pred = svc.predict(X_test)\r\n",
        "svc_pred"
      ],
      "execution_count": 230,
      "outputs": [
        {
          "output_type": "execute_result",
          "data": {
            "text/plain": [
              "array([1, 1, 1, ..., 2, 2, 1])"
            ]
          },
          "metadata": {
            "tags": []
          },
          "execution_count": 230
        }
      ]
    },
    {
      "cell_type": "code",
      "metadata": {
        "colab": {
          "base_uri": "https://localhost:8080/",
          "height": 197
        },
        "id": "I_EpEZ27MuQa",
        "outputId": "77078260-6719-4d93-a758-f696f7d7dba1"
      },
      "source": [
        "to_submit = pd.DataFrame({'tweet_id': test_data['tweet_id'], 'sentiment': lr_pred})\r\n",
        "to_submit.to_csv('lat.csv', index=False)\r\n",
        "to_submit.head()"
      ],
      "execution_count": 196,
      "outputs": [
        {
          "output_type": "execute_result",
          "data": {
            "text/html": [
              "<div>\n",
              "<style scoped>\n",
              "    .dataframe tbody tr th:only-of-type {\n",
              "        vertical-align: middle;\n",
              "    }\n",
              "\n",
              "    .dataframe tbody tr th {\n",
              "        vertical-align: top;\n",
              "    }\n",
              "\n",
              "    .dataframe thead th {\n",
              "        text-align: right;\n",
              "    }\n",
              "</style>\n",
              "<table border=\"1\" class=\"dataframe\">\n",
              "  <thead>\n",
              "    <tr style=\"text-align: right;\">\n",
              "      <th></th>\n",
              "      <th>tweet_id</th>\n",
              "      <th>sentiment</th>\n",
              "    </tr>\n",
              "  </thead>\n",
              "  <tbody>\n",
              "    <tr>\n",
              "      <th>0</th>\n",
              "      <td>7506</td>\n",
              "      <td>1</td>\n",
              "    </tr>\n",
              "    <tr>\n",
              "      <th>1</th>\n",
              "      <td>7992</td>\n",
              "      <td>3</td>\n",
              "    </tr>\n",
              "    <tr>\n",
              "      <th>2</th>\n",
              "      <td>247</td>\n",
              "      <td>1</td>\n",
              "    </tr>\n",
              "    <tr>\n",
              "      <th>3</th>\n",
              "      <td>7688</td>\n",
              "      <td>2</td>\n",
              "    </tr>\n",
              "    <tr>\n",
              "      <th>4</th>\n",
              "      <td>3294</td>\n",
              "      <td>2</td>\n",
              "    </tr>\n",
              "  </tbody>\n",
              "</table>\n",
              "</div>"
            ],
            "text/plain": [
              "   tweet_id  sentiment\n",
              "0      7506          1\n",
              "1      7992          3\n",
              "2       247          1\n",
              "3      7688          2\n",
              "4      3294          2"
            ]
          },
          "metadata": {
            "tags": []
          },
          "execution_count": 196
        }
      ]
    },
    {
      "cell_type": "code",
      "metadata": {
        "colab": {
          "base_uri": "https://localhost:8080/",
          "height": 197
        },
        "id": "a1GUtggRMyXx",
        "outputId": "b69d2790-1101-4cf9-b075-ad7000b85c6f"
      },
      "source": [
        "to_submit = pd.DataFrame({'tweet_id': test_data['tweet_id'], 'sentiment': svc_pred})\r\n",
        "to_submit.to_csv('svc_Smote.csv', index=False)\r\n",
        "to_submit.head()"
      ],
      "execution_count": 231,
      "outputs": [
        {
          "output_type": "execute_result",
          "data": {
            "text/html": [
              "<div>\n",
              "<style scoped>\n",
              "    .dataframe tbody tr th:only-of-type {\n",
              "        vertical-align: middle;\n",
              "    }\n",
              "\n",
              "    .dataframe tbody tr th {\n",
              "        vertical-align: top;\n",
              "    }\n",
              "\n",
              "    .dataframe thead th {\n",
              "        text-align: right;\n",
              "    }\n",
              "</style>\n",
              "<table border=\"1\" class=\"dataframe\">\n",
              "  <thead>\n",
              "    <tr style=\"text-align: right;\">\n",
              "      <th></th>\n",
              "      <th>tweet_id</th>\n",
              "      <th>sentiment</th>\n",
              "    </tr>\n",
              "  </thead>\n",
              "  <tbody>\n",
              "    <tr>\n",
              "      <th>0</th>\n",
              "      <td>7506</td>\n",
              "      <td>1</td>\n",
              "    </tr>\n",
              "    <tr>\n",
              "      <th>1</th>\n",
              "      <td>7992</td>\n",
              "      <td>1</td>\n",
              "    </tr>\n",
              "    <tr>\n",
              "      <th>2</th>\n",
              "      <td>247</td>\n",
              "      <td>1</td>\n",
              "    </tr>\n",
              "    <tr>\n",
              "      <th>3</th>\n",
              "      <td>7688</td>\n",
              "      <td>2</td>\n",
              "    </tr>\n",
              "    <tr>\n",
              "      <th>4</th>\n",
              "      <td>3294</td>\n",
              "      <td>1</td>\n",
              "    </tr>\n",
              "  </tbody>\n",
              "</table>\n",
              "</div>"
            ],
            "text/plain": [
              "   tweet_id  sentiment\n",
              "0      7506          1\n",
              "1      7992          1\n",
              "2       247          1\n",
              "3      7688          2\n",
              "4      3294          1"
            ]
          },
          "metadata": {
            "tags": []
          },
          "execution_count": 231
        }
      ]
    },
    {
      "cell_type": "code",
      "metadata": {
        "colab": {
          "base_uri": "https://localhost:8080/",
          "height": 197
        },
        "id": "N6Q06oS3Op4A",
        "outputId": "e7da5218-f8d4-42cc-f576-3b1265f27cdc"
      },
      "source": [
        "rf_model = RandomForestClassifier(random_state=42)\r\n",
        "rf_model.fit(data_res, label_res)\r\n",
        "rf_pred = rf_model.predict(X_test)\r\n",
        "to_submit = pd.DataFrame({'tweet_id': test_data['tweet_id'], 'sentiment': rf_pred})\r\n",
        "to_submit.to_csv('rf_pred_smote.csv', index=False)\r\n",
        "to_submit.head()"
      ],
      "execution_count": 252,
      "outputs": [
        {
          "output_type": "execute_result",
          "data": {
            "text/html": [
              "<div>\n",
              "<style scoped>\n",
              "    .dataframe tbody tr th:only-of-type {\n",
              "        vertical-align: middle;\n",
              "    }\n",
              "\n",
              "    .dataframe tbody tr th {\n",
              "        vertical-align: top;\n",
              "    }\n",
              "\n",
              "    .dataframe thead th {\n",
              "        text-align: right;\n",
              "    }\n",
              "</style>\n",
              "<table border=\"1\" class=\"dataframe\">\n",
              "  <thead>\n",
              "    <tr style=\"text-align: right;\">\n",
              "      <th></th>\n",
              "      <th>tweet_id</th>\n",
              "      <th>sentiment</th>\n",
              "    </tr>\n",
              "  </thead>\n",
              "  <tbody>\n",
              "    <tr>\n",
              "      <th>0</th>\n",
              "      <td>7506</td>\n",
              "      <td>1</td>\n",
              "    </tr>\n",
              "    <tr>\n",
              "      <th>1</th>\n",
              "      <td>7992</td>\n",
              "      <td>1</td>\n",
              "    </tr>\n",
              "    <tr>\n",
              "      <th>2</th>\n",
              "      <td>247</td>\n",
              "      <td>1</td>\n",
              "    </tr>\n",
              "    <tr>\n",
              "      <th>3</th>\n",
              "      <td>7688</td>\n",
              "      <td>1</td>\n",
              "    </tr>\n",
              "    <tr>\n",
              "      <th>4</th>\n",
              "      <td>3294</td>\n",
              "      <td>2</td>\n",
              "    </tr>\n",
              "  </tbody>\n",
              "</table>\n",
              "</div>"
            ],
            "text/plain": [
              "   tweet_id  sentiment\n",
              "0      7506          1\n",
              "1      7992          1\n",
              "2       247          1\n",
              "3      7688          1\n",
              "4      3294          2"
            ]
          },
          "metadata": {
            "tags": []
          },
          "execution_count": 252
        }
      ]
    },
    {
      "cell_type": "code",
      "metadata": {
        "id": "7f3W9zKWdeYp"
      },
      "source": [
        "def perform_cv(model, X, y):\r\n",
        "    f1_scores = []\r\n",
        "    X_t, X_test, y_train, y_test = train_test_split(X, y, test_size=0.33)\r\n",
        "    model.fit(X_t, y_train)\r\n",
        "    model_pred = model.predict(X_test)\r\n",
        "    print(classification_report(y_test, model_pred))\r\n",
        "    f1 = f1_score(y_test, model_pred,average=\"weighted\")\r\n",
        "    print(\"F1 score: \"+str(f1))\r\n",
        "    f1_scores.append(f1)\r\n",
        "    return f1_scores"
      ],
      "execution_count": 258,
      "outputs": []
    },
    {
      "cell_type": "code",
      "metadata": {
        "id": "n7A4zVepeWfe"
      },
      "source": [
        "from sklearn.metrics import classification_report, f1_score"
      ],
      "execution_count": 261,
      "outputs": []
    },
    {
      "cell_type": "code",
      "metadata": {
        "colab": {
          "base_uri": "https://localhost:8080/"
        },
        "id": "uCRyBwEndfuS",
        "outputId": "ac74b496-74c8-443d-f739-30a457cf2d96"
      },
      "source": [
        "f1_scores = perform_cv(rf_model, data_res, label_res)"
      ],
      "execution_count": 262,
      "outputs": [
        {
          "output_type": "stream",
          "text": [
            "              precision    recall  f1-score   support\n",
            "\n",
            "           0       0.82      0.74      0.78      1417\n",
            "           1       0.72      0.61      0.66      1435\n",
            "           2       0.64      0.55      0.59      1411\n",
            "           3       0.69      0.97      0.81      1427\n",
            "\n",
            "    accuracy                           0.72      5690\n",
            "   macro avg       0.72      0.72      0.71      5690\n",
            "weighted avg       0.72      0.72      0.71      5690\n",
            "\n",
            "F1 score: 0.7100074556498477\n"
          ],
          "name": "stdout"
        }
      ]
    },
    {
      "cell_type": "code",
      "metadata": {
        "id": "iSQxE1usfQDP"
      },
      "source": [
        "import numpy as np"
      ],
      "execution_count": 264,
      "outputs": []
    },
    {
      "cell_type": "code",
      "metadata": {
        "colab": {
          "base_uri": "https://localhost:8080/"
        },
        "id": "aJvaLv00fH4i",
        "outputId": "6a22b698-6e82-4227-f585-925a4d231a66"
      },
      "source": [
        "np.mean(f1_scores)"
      ],
      "execution_count": 265,
      "outputs": [
        {
          "output_type": "execute_result",
          "data": {
            "text/plain": [
              "0.7100074556498477"
            ]
          },
          "metadata": {
            "tags": []
          },
          "execution_count": 265
        }
      ]
    },
    {
      "cell_type": "code",
      "metadata": {
        "colab": {
          "base_uri": "https://localhost:8080/"
        },
        "id": "njIfNzZXfSij",
        "outputId": "d4c86613-58e6-46c8-be2f-b89b55b48ef7"
      },
      "source": [
        "f1_scores = perform_cv(xgb, data_res, label_res)"
      ],
      "execution_count": 266,
      "outputs": [
        {
          "output_type": "stream",
          "text": [
            "              precision    recall  f1-score   support\n",
            "\n",
            "           0       0.96      0.80      0.87      1372\n",
            "           1       0.60      0.90      0.72      1387\n",
            "           2       0.78      0.54      0.63      1440\n",
            "           3       0.99      0.97      0.98      1491\n",
            "\n",
            "    accuracy                           0.80      5690\n",
            "   macro avg       0.83      0.80      0.80      5690\n",
            "weighted avg       0.83      0.80      0.80      5690\n",
            "\n",
            "F1 score: 0.8035565877423705\n"
          ],
          "name": "stdout"
        }
      ]
    },
    {
      "cell_type": "code",
      "metadata": {
        "colab": {
          "base_uri": "https://localhost:8080/"
        },
        "id": "LR5PSaShf1Lz",
        "outputId": "aac02612-7abc-4983-be2c-29501317a58c"
      },
      "source": [
        "np.mean(f1_scores)"
      ],
      "execution_count": 267,
      "outputs": [
        {
          "output_type": "execute_result",
          "data": {
            "text/plain": [
              "0.8035565877423705"
            ]
          },
          "metadata": {
            "tags": []
          },
          "execution_count": 267
        }
      ]
    },
    {
      "cell_type": "code",
      "metadata": {
        "id": "9pdhpSkpTzlZ"
      },
      "source": [
        "xgb = XGBClassifier()\r\n",
        "\r\n",
        "optimization_dict = {'max_depth': [2,3,4,5,6,7],\r\n",
        "                     'n_estimators': [50,60,70,80,90,100,150,200]}\r\n",
        "\r\n",
        "model = GridSearchCV(xgb, optimization_dict, \r\n",
        "                     scoring=f1, verbose=5)\r\n",
        "model.fit(data_res, label_res)"
      ],
      "execution_count": null,
      "outputs": []
    },
    {
      "cell_type": "code",
      "metadata": {
        "colab": {
          "base_uri": "https://localhost:8080/",
          "height": 180
        },
        "id": "LNzPblXYV5xQ",
        "outputId": "7bfa1e6a-03d6-4e76-a449-44dc337dcebf"
      },
      "source": [
        "print(model.best_score_)\r\n",
        "print(model.best_params_)"
      ],
      "execution_count": 257,
      "outputs": [
        {
          "output_type": "error",
          "ename": "AttributeError",
          "evalue": "ignored",
          "traceback": [
            "\u001b[0;31m---------------------------------------------------------------------------\u001b[0m",
            "\u001b[0;31mAttributeError\u001b[0m                            Traceback (most recent call last)",
            "\u001b[0;32m<ipython-input-257-72f85f7801b8>\u001b[0m in \u001b[0;36m<module>\u001b[0;34m()\u001b[0m\n\u001b[0;32m----> 1\u001b[0;31m \u001b[0mprint\u001b[0m\u001b[0;34m(\u001b[0m\u001b[0mmodel\u001b[0m\u001b[0;34m.\u001b[0m\u001b[0mbest_score_\u001b[0m\u001b[0;34m)\u001b[0m\u001b[0;34m\u001b[0m\u001b[0;34m\u001b[0m\u001b[0m\n\u001b[0m\u001b[1;32m      2\u001b[0m \u001b[0mprint\u001b[0m\u001b[0;34m(\u001b[0m\u001b[0mmodel\u001b[0m\u001b[0;34m.\u001b[0m\u001b[0mbest_params_\u001b[0m\u001b[0;34m)\u001b[0m\u001b[0;34m\u001b[0m\u001b[0;34m\u001b[0m\u001b[0m\n",
            "\u001b[0;31mAttributeError\u001b[0m: 'GridSearchCV' object has no attribute 'best_score_'"
          ]
        }
      ]
    },
    {
      "cell_type": "code",
      "metadata": {
        "id": "mbkEm3N5V9J9"
      },
      "source": [
        "grid_pred = model.predict(X_test)"
      ],
      "execution_count": null,
      "outputs": []
    },
    {
      "cell_type": "code",
      "metadata": {
        "colab": {
          "base_uri": "https://localhost:8080/",
          "height": 197
        },
        "id": "5ORKfoa6WAYY",
        "outputId": "91eef86e-1f60-459b-f43b-492a14c44749"
      },
      "source": [
        "to_submit = pd.DataFrame({'tweet_id': test_data['tweet_id'], 'sentiment': grid_pred})\r\n",
        "to_submit.to_csv('grid_pred_smote.csv', index=False)\r\n",
        "to_submit.head()"
      ],
      "execution_count": null,
      "outputs": [
        {
          "output_type": "execute_result",
          "data": {
            "text/html": [
              "<div>\n",
              "<style scoped>\n",
              "    .dataframe tbody tr th:only-of-type {\n",
              "        vertical-align: middle;\n",
              "    }\n",
              "\n",
              "    .dataframe tbody tr th {\n",
              "        vertical-align: top;\n",
              "    }\n",
              "\n",
              "    .dataframe thead th {\n",
              "        text-align: right;\n",
              "    }\n",
              "</style>\n",
              "<table border=\"1\" class=\"dataframe\">\n",
              "  <thead>\n",
              "    <tr style=\"text-align: right;\">\n",
              "      <th></th>\n",
              "      <th>tweet_id</th>\n",
              "      <th>sentiment</th>\n",
              "    </tr>\n",
              "  </thead>\n",
              "  <tbody>\n",
              "    <tr>\n",
              "      <th>0</th>\n",
              "      <td>7506</td>\n",
              "      <td>1</td>\n",
              "    </tr>\n",
              "    <tr>\n",
              "      <th>1</th>\n",
              "      <td>7992</td>\n",
              "      <td>1</td>\n",
              "    </tr>\n",
              "    <tr>\n",
              "      <th>2</th>\n",
              "      <td>247</td>\n",
              "      <td>1</td>\n",
              "    </tr>\n",
              "    <tr>\n",
              "      <th>3</th>\n",
              "      <td>7688</td>\n",
              "      <td>2</td>\n",
              "    </tr>\n",
              "    <tr>\n",
              "      <th>4</th>\n",
              "      <td>3294</td>\n",
              "      <td>1</td>\n",
              "    </tr>\n",
              "  </tbody>\n",
              "</table>\n",
              "</div>"
            ],
            "text/plain": [
              "   tweet_id  sentiment\n",
              "0      7506          1\n",
              "1      7992          1\n",
              "2       247          1\n",
              "3      7688          2\n",
              "4      3294          1"
            ]
          },
          "metadata": {
            "tags": []
          },
          "execution_count": 254
        }
      ]
    },
    {
      "cell_type": "code",
      "metadata": {
        "id": "S8XVHemAWHGC"
      },
      "source": [
        "xgb.fit(data_res, label_res)\r\n",
        "xgb_pred = xgb.predict(X_test)"
      ],
      "execution_count": null,
      "outputs": []
    },
    {
      "cell_type": "code",
      "metadata": {
        "colab": {
          "base_uri": "https://localhost:8080/",
          "height": 197
        },
        "id": "jo5rr1dBWPn0",
        "outputId": "27da7cbb-96e1-41e2-f2da-d4742af9bf0c"
      },
      "source": [
        "to_submit = pd.DataFrame({'tweet_id': test_data['tweet_id'], 'sentiment': xgb_pred})\r\n",
        "to_submit.to_csv('xgb_pred_smote.csv', index=False)\r\n",
        "to_submit.head()"
      ],
      "execution_count": null,
      "outputs": [
        {
          "output_type": "execute_result",
          "data": {
            "text/html": [
              "<div>\n",
              "<style scoped>\n",
              "    .dataframe tbody tr th:only-of-type {\n",
              "        vertical-align: middle;\n",
              "    }\n",
              "\n",
              "    .dataframe tbody tr th {\n",
              "        vertical-align: top;\n",
              "    }\n",
              "\n",
              "    .dataframe thead th {\n",
              "        text-align: right;\n",
              "    }\n",
              "</style>\n",
              "<table border=\"1\" class=\"dataframe\">\n",
              "  <thead>\n",
              "    <tr style=\"text-align: right;\">\n",
              "      <th></th>\n",
              "      <th>tweet_id</th>\n",
              "      <th>sentiment</th>\n",
              "    </tr>\n",
              "  </thead>\n",
              "  <tbody>\n",
              "    <tr>\n",
              "      <th>0</th>\n",
              "      <td>7506</td>\n",
              "      <td>1</td>\n",
              "    </tr>\n",
              "    <tr>\n",
              "      <th>1</th>\n",
              "      <td>7992</td>\n",
              "      <td>1</td>\n",
              "    </tr>\n",
              "    <tr>\n",
              "      <th>2</th>\n",
              "      <td>247</td>\n",
              "      <td>1</td>\n",
              "    </tr>\n",
              "    <tr>\n",
              "      <th>3</th>\n",
              "      <td>7688</td>\n",
              "      <td>1</td>\n",
              "    </tr>\n",
              "    <tr>\n",
              "      <th>4</th>\n",
              "      <td>3294</td>\n",
              "      <td>1</td>\n",
              "    </tr>\n",
              "  </tbody>\n",
              "</table>\n",
              "</div>"
            ],
            "text/plain": [
              "   tweet_id  sentiment\n",
              "0      7506          1\n",
              "1      7992          1\n",
              "2       247          1\n",
              "3      7688          1\n",
              "4      3294          1"
            ]
          },
          "metadata": {
            "tags": []
          },
          "execution_count": 256
        }
      ]
    },
    {
      "cell_type": "code",
      "metadata": {
        "id": "OmYn9n_7WUHw"
      },
      "source": [
        ""
      ],
      "execution_count": null,
      "outputs": []
    }
  ]
}